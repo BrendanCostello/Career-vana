{
 "cells": [
  {
   "cell_type": "code",
   "execution_count": 34,
   "id": "d0fcd449-3f48-433e-aebe-0773277408ef",
   "metadata": {},
   "outputs": [
    {
     "data": {
      "text/html": [
       "<div>\n",
       "<style scoped>\n",
       "    .dataframe tbody tr th:only-of-type {\n",
       "        vertical-align: middle;\n",
       "    }\n",
       "\n",
       "    .dataframe tbody tr th {\n",
       "        vertical-align: top;\n",
       "    }\n",
       "\n",
       "    .dataframe thead th {\n",
       "        text-align: right;\n",
       "    }\n",
       "</style>\n",
       "<table border=\"1\" class=\"dataframe\">\n",
       "  <thead>\n",
       "    <tr style=\"text-align: right;\">\n",
       "      <th></th>\n",
       "      <th>userid</th>\n",
       "      <th>_openness</th>\n",
       "      <th>_agreeableness</th>\n",
       "      <th>_emotional_stability</th>\n",
       "      <th>_conscientiousness</th>\n",
       "      <th>_extraversion</th>\n",
       "      <th>_assigned_metric</th>\n",
       "      <th>_employment</th>\n",
       "      <th>50-100k</th>\n",
       "      <th>_predicted_rating_1</th>\n",
       "      <th>...</th>\n",
       "      <th>100-150k</th>\n",
       "      <th>_predicted_rating_9</th>\n",
       "      <th>150-200k</th>\n",
       "      <th>_predicted_rating_10</th>\n",
       "      <th>200-500k</th>\n",
       "      <th>_predicted_rating_11</th>\n",
       "      <th>+500k</th>\n",
       "      <th>_predicted_rating_12</th>\n",
       "      <th>_is_personalized</th>\n",
       "      <th>_enjoy_watching_</th>\n",
       "    </tr>\n",
       "  </thead>\n",
       "  <tbody>\n",
       "    <tr>\n",
       "      <th>0</th>\n",
       "      <td>8e7cebf9a234c064b75016249f2ac65e</td>\n",
       "      <td>5.0</td>\n",
       "      <td>2.0</td>\n",
       "      <td>3.0</td>\n",
       "      <td>2.5</td>\n",
       "      <td>6.5</td>\n",
       "      <td>serendipity</td>\n",
       "      <td>high</td>\n",
       "      <td>77658</td>\n",
       "      <td>4.410466</td>\n",
       "      <td>...</td>\n",
       "      <td>120138</td>\n",
       "      <td>4.244817</td>\n",
       "      <td>121372</td>\n",
       "      <td>4.396004</td>\n",
       "      <td>127152</td>\n",
       "      <td>4.120456</td>\n",
       "      <td>95311</td>\n",
       "      <td>4.053847</td>\n",
       "      <td>4</td>\n",
       "      <td>4</td>\n",
       "    </tr>\n",
       "    <tr>\n",
       "      <th>1</th>\n",
       "      <td>77c7d756a093150d4377720abeaeef76</td>\n",
       "      <td>7.0</td>\n",
       "      <td>4.0</td>\n",
       "      <td>6.0</td>\n",
       "      <td>5.5</td>\n",
       "      <td>4.0</td>\n",
       "      <td>all</td>\n",
       "      <td>default</td>\n",
       "      <td>94959</td>\n",
       "      <td>4.207280</td>\n",
       "      <td>...</td>\n",
       "      <td>56782</td>\n",
       "      <td>4.019599</td>\n",
       "      <td>5618</td>\n",
       "      <td>3.963953</td>\n",
       "      <td>969</td>\n",
       "      <td>4.174188</td>\n",
       "      <td>1232</td>\n",
       "      <td>4.334877</td>\n",
       "      <td>2</td>\n",
       "      <td>3</td>\n",
       "    </tr>\n",
       "    <tr>\n",
       "      <th>2</th>\n",
       "      <td>b7e8a92987a530cc368719a0e60e26a3</td>\n",
       "      <td>4.0</td>\n",
       "      <td>3.0</td>\n",
       "      <td>4.5</td>\n",
       "      <td>2.0</td>\n",
       "      <td>2.5</td>\n",
       "      <td>serendipity</td>\n",
       "      <td>medium</td>\n",
       "      <td>110501</td>\n",
       "      <td>4.868064</td>\n",
       "      <td>...</td>\n",
       "      <td>2288</td>\n",
       "      <td>4.823212</td>\n",
       "      <td>3307</td>\n",
       "      <td>4.676756</td>\n",
       "      <td>1172</td>\n",
       "      <td>4.649281</td>\n",
       "      <td>1212</td>\n",
       "      <td>4.744990</td>\n",
       "      <td>2</td>\n",
       "      <td>2</td>\n",
       "    </tr>\n",
       "    <tr>\n",
       "      <th>3</th>\n",
       "      <td>92561f21446e017dd6b68b94b23ad5b7</td>\n",
       "      <td>5.5</td>\n",
       "      <td>5.5</td>\n",
       "      <td>4.0</td>\n",
       "      <td>4.5</td>\n",
       "      <td>4.0</td>\n",
       "      <td>popularity</td>\n",
       "      <td>medium</td>\n",
       "      <td>2905</td>\n",
       "      <td>4.526371</td>\n",
       "      <td>...</td>\n",
       "      <td>3030</td>\n",
       "      <td>4.425689</td>\n",
       "      <td>1281</td>\n",
       "      <td>4.479921</td>\n",
       "      <td>940</td>\n",
       "      <td>4.355061</td>\n",
       "      <td>905</td>\n",
       "      <td>4.317927</td>\n",
       "      <td>3</td>\n",
       "      <td>3</td>\n",
       "    </tr>\n",
       "    <tr>\n",
       "      <th>4</th>\n",
       "      <td>030001ac2145a938b07e686a35a2d638</td>\n",
       "      <td>5.5</td>\n",
       "      <td>5.5</td>\n",
       "      <td>3.5</td>\n",
       "      <td>4.5</td>\n",
       "      <td>2.5</td>\n",
       "      <td>popularity</td>\n",
       "      <td>medium</td>\n",
       "      <td>2905</td>\n",
       "      <td>4.526371</td>\n",
       "      <td>...</td>\n",
       "      <td>3030</td>\n",
       "      <td>4.425689</td>\n",
       "      <td>1281</td>\n",
       "      <td>4.479921</td>\n",
       "      <td>940</td>\n",
       "      <td>4.355061</td>\n",
       "      <td>905</td>\n",
       "      <td>4.317927</td>\n",
       "      <td>2</td>\n",
       "      <td>3</td>\n",
       "    </tr>\n",
       "  </tbody>\n",
       "</table>\n",
       "<p>5 rows × 34 columns</p>\n",
       "</div>"
      ],
      "text/plain": [
       "                             userid  _openness  _agreeableness  \\\n",
       "0  8e7cebf9a234c064b75016249f2ac65e        5.0             2.0   \n",
       "1  77c7d756a093150d4377720abeaeef76        7.0             4.0   \n",
       "2  b7e8a92987a530cc368719a0e60e26a3        4.0             3.0   \n",
       "3  92561f21446e017dd6b68b94b23ad5b7        5.5             5.5   \n",
       "4  030001ac2145a938b07e686a35a2d638        5.5             5.5   \n",
       "\n",
       "   _emotional_stability  _conscientiousness  _extraversion _assigned_metric  \\\n",
       "0                   3.0                 2.5            6.5      serendipity   \n",
       "1                   6.0                 5.5            4.0              all   \n",
       "2                   4.5                 2.0            2.5      serendipity   \n",
       "3                   4.0                 4.5            4.0       popularity   \n",
       "4                   3.5                 4.5            2.5       popularity   \n",
       "\n",
       "  _employment  50-100k  _predicted_rating_1  ...  100-150k  \\\n",
       "0        high    77658             4.410466  ...    120138   \n",
       "1     default    94959             4.207280  ...     56782   \n",
       "2      medium   110501             4.868064  ...      2288   \n",
       "3      medium     2905             4.526371  ...      3030   \n",
       "4      medium     2905             4.526371  ...      3030   \n",
       "\n",
       "   _predicted_rating_9  150-200k  _predicted_rating_10  200-500k  \\\n",
       "0             4.244817    121372              4.396004    127152   \n",
       "1             4.019599      5618              3.963953       969   \n",
       "2             4.823212      3307              4.676756      1172   \n",
       "3             4.425689      1281              4.479921       940   \n",
       "4             4.425689      1281              4.479921       940   \n",
       "\n",
       "   _predicted_rating_11  +500k  _predicted_rating_12  _is_personalized  \\\n",
       "0              4.120456  95311              4.053847                 4   \n",
       "1              4.174188   1232              4.334877                 2   \n",
       "2              4.649281   1212              4.744990                 2   \n",
       "3              4.355061    905              4.317927                 3   \n",
       "4              4.355061    905              4.317927                 2   \n",
       "\n",
       "   _enjoy_watching_  \n",
       "0                 4  \n",
       "1                 3  \n",
       "2                 2  \n",
       "3                 3  \n",
       "4                 3  \n",
       "\n",
       "[5 rows x 34 columns]"
      ]
     },
     "execution_count": 34,
     "metadata": {},
     "output_type": "execute_result"
    }
   ],
   "source": [
    "import pandas as pd\n",
    "import numpy as np\n",
    "import matplotlib as plt\n",
    "import seaborn as sns\n",
    "import plotly.express as px\n",
    "import plotly.graph_objects as go\n",
    "\n",
    "df = pd.read_csv('data/emotionalEmployment.csv')\n",
    "df.head()"
   ]
  },
  {
   "cell_type": "code",
   "execution_count": 30,
   "id": "24375314-607a-49ff-a461-a07e9fc8021a",
   "metadata": {},
   "outputs": [
    {
     "data": {
      "application/vnd.plotly.v1+json": {
       "config": {
        "plotlyServerURL": "https://plot.ly"
       },
       "data": [
        {
         "connectgaps": true,
         "line": {
          "width": 2
         },
         "mode": "lines",
         "name": "Finance - Openness",
         "type": "scatter",
         "x": [
          "<$50k"
         ],
         "y": [
          "Finance"
         ]
        },
        {
         "connectgaps": true,
         "line": {
          "width": 2
         },
         "mode": "lines",
         "name": "Government - Openness",
         "type": "scatter",
         "x": [],
         "y": []
        },
        {
         "connectgaps": true,
         "line": {
          "width": 2
         },
         "mode": "lines",
         "name": "Technology - Openness",
         "type": "scatter",
         "x": [],
         "y": []
        },
        {
         "connectgaps": true,
         "line": {
          "width": 2
         },
         "mode": "lines",
         "name": "Healthcare - Openness",
         "type": "scatter",
         "x": [],
         "y": []
        },
        {
         "connectgaps": true,
         "line": {
          "width": 2
         },
         "mode": "lines",
         "name": "Finance - Neuroticism",
         "type": "scatter",
         "x": [],
         "y": []
        },
        {
         "connectgaps": true,
         "line": {
          "width": 2
         },
         "mode": "lines",
         "name": "Government - Neuroticism",
         "type": "scatter",
         "x": [
          "$50-100k"
         ],
         "y": [
          "Government"
         ]
        },
        {
         "connectgaps": true,
         "line": {
          "width": 2
         },
         "mode": "lines",
         "name": "Technology - Neuroticism",
         "type": "scatter",
         "x": [],
         "y": []
        },
        {
         "connectgaps": true,
         "line": {
          "width": 2
         },
         "mode": "lines",
         "name": "Healthcare - Neuroticism",
         "type": "scatter",
         "x": [],
         "y": []
        },
        {
         "connectgaps": true,
         "line": {
          "width": 2
         },
         "mode": "lines",
         "name": "Finance - Conscientiousness",
         "type": "scatter",
         "x": [],
         "y": []
        },
        {
         "connectgaps": true,
         "line": {
          "width": 2
         },
         "mode": "lines",
         "name": "Government - Conscientiousness",
         "type": "scatter",
         "x": [],
         "y": []
        },
        {
         "connectgaps": true,
         "line": {
          "width": 2
         },
         "mode": "lines",
         "name": "Technology - Conscientiousness",
         "type": "scatter",
         "x": [
          "$100-150k"
         ],
         "y": [
          "Technology"
         ]
        },
        {
         "connectgaps": true,
         "line": {
          "width": 2
         },
         "mode": "lines",
         "name": "Healthcare - Conscientiousness",
         "type": "scatter",
         "x": [],
         "y": []
        },
        {
         "connectgaps": true,
         "line": {
          "width": 2
         },
         "mode": "lines",
         "name": "Finance - Extraversion",
         "type": "scatter",
         "x": [],
         "y": []
        },
        {
         "connectgaps": true,
         "line": {
          "width": 2
         },
         "mode": "lines",
         "name": "Government - Extraversion",
         "type": "scatter",
         "x": [],
         "y": []
        },
        {
         "connectgaps": true,
         "line": {
          "width": 2
         },
         "mode": "lines",
         "name": "Technology - Extraversion",
         "type": "scatter",
         "x": [
          "$150-250k"
         ],
         "y": [
          "Technology"
         ]
        },
        {
         "connectgaps": true,
         "line": {
          "width": 2
         },
         "mode": "lines",
         "name": "Healthcare - Extraversion",
         "type": "scatter",
         "x": [],
         "y": []
        },
        {
         "connectgaps": true,
         "line": {
          "width": 2
         },
         "mode": "lines",
         "name": "Finance - Agreeableness",
         "type": "scatter",
         "x": [],
         "y": []
        },
        {
         "connectgaps": true,
         "line": {
          "width": 2
         },
         "mode": "lines",
         "name": "Government - Agreeableness",
         "type": "scatter",
         "x": [],
         "y": []
        },
        {
         "connectgaps": true,
         "line": {
          "width": 2
         },
         "mode": "lines",
         "name": "Technology - Agreeableness",
         "type": "scatter",
         "x": [],
         "y": []
        },
        {
         "connectgaps": true,
         "line": {
          "width": 2
         },
         "mode": "lines",
         "name": "Healthcare - Agreeableness",
         "type": "scatter",
         "x": [
          "$250-500k"
         ],
         "y": [
          "Healthcare"
         ]
        }
       ],
       "layout": {
        "autosize": false,
        "height": 360,
        "margin": {
         "autoexpand": false,
         "l": 100,
         "r": 20,
         "t": 110
        },
        "plot_bgcolor": "white",
        "showlegend": true,
        "template": {
         "data": {
          "bar": [
           {
            "error_x": {
             "color": "#2a3f5f"
            },
            "error_y": {
             "color": "#2a3f5f"
            },
            "marker": {
             "line": {
              "color": "#E5ECF6",
              "width": 0.5
             },
             "pattern": {
              "fillmode": "overlay",
              "size": 10,
              "solidity": 0.2
             }
            },
            "type": "bar"
           }
          ],
          "barpolar": [
           {
            "marker": {
             "line": {
              "color": "#E5ECF6",
              "width": 0.5
             },
             "pattern": {
              "fillmode": "overlay",
              "size": 10,
              "solidity": 0.2
             }
            },
            "type": "barpolar"
           }
          ],
          "carpet": [
           {
            "aaxis": {
             "endlinecolor": "#2a3f5f",
             "gridcolor": "white",
             "linecolor": "white",
             "minorgridcolor": "white",
             "startlinecolor": "#2a3f5f"
            },
            "baxis": {
             "endlinecolor": "#2a3f5f",
             "gridcolor": "white",
             "linecolor": "white",
             "minorgridcolor": "white",
             "startlinecolor": "#2a3f5f"
            },
            "type": "carpet"
           }
          ],
          "choropleth": [
           {
            "colorbar": {
             "outlinewidth": 0,
             "ticks": ""
            },
            "type": "choropleth"
           }
          ],
          "contour": [
           {
            "colorbar": {
             "outlinewidth": 0,
             "ticks": ""
            },
            "colorscale": [
             [
              0,
              "#0d0887"
             ],
             [
              0.1111111111111111,
              "#46039f"
             ],
             [
              0.2222222222222222,
              "#7201a8"
             ],
             [
              0.3333333333333333,
              "#9c179e"
             ],
             [
              0.4444444444444444,
              "#bd3786"
             ],
             [
              0.5555555555555556,
              "#d8576b"
             ],
             [
              0.6666666666666666,
              "#ed7953"
             ],
             [
              0.7777777777777778,
              "#fb9f3a"
             ],
             [
              0.8888888888888888,
              "#fdca26"
             ],
             [
              1,
              "#f0f921"
             ]
            ],
            "type": "contour"
           }
          ],
          "contourcarpet": [
           {
            "colorbar": {
             "outlinewidth": 0,
             "ticks": ""
            },
            "type": "contourcarpet"
           }
          ],
          "heatmap": [
           {
            "colorbar": {
             "outlinewidth": 0,
             "ticks": ""
            },
            "colorscale": [
             [
              0,
              "#0d0887"
             ],
             [
              0.1111111111111111,
              "#46039f"
             ],
             [
              0.2222222222222222,
              "#7201a8"
             ],
             [
              0.3333333333333333,
              "#9c179e"
             ],
             [
              0.4444444444444444,
              "#bd3786"
             ],
             [
              0.5555555555555556,
              "#d8576b"
             ],
             [
              0.6666666666666666,
              "#ed7953"
             ],
             [
              0.7777777777777778,
              "#fb9f3a"
             ],
             [
              0.8888888888888888,
              "#fdca26"
             ],
             [
              1,
              "#f0f921"
             ]
            ],
            "type": "heatmap"
           }
          ],
          "heatmapgl": [
           {
            "colorbar": {
             "outlinewidth": 0,
             "ticks": ""
            },
            "colorscale": [
             [
              0,
              "#0d0887"
             ],
             [
              0.1111111111111111,
              "#46039f"
             ],
             [
              0.2222222222222222,
              "#7201a8"
             ],
             [
              0.3333333333333333,
              "#9c179e"
             ],
             [
              0.4444444444444444,
              "#bd3786"
             ],
             [
              0.5555555555555556,
              "#d8576b"
             ],
             [
              0.6666666666666666,
              "#ed7953"
             ],
             [
              0.7777777777777778,
              "#fb9f3a"
             ],
             [
              0.8888888888888888,
              "#fdca26"
             ],
             [
              1,
              "#f0f921"
             ]
            ],
            "type": "heatmapgl"
           }
          ],
          "histogram": [
           {
            "marker": {
             "pattern": {
              "fillmode": "overlay",
              "size": 10,
              "solidity": 0.2
             }
            },
            "type": "histogram"
           }
          ],
          "histogram2d": [
           {
            "colorbar": {
             "outlinewidth": 0,
             "ticks": ""
            },
            "colorscale": [
             [
              0,
              "#0d0887"
             ],
             [
              0.1111111111111111,
              "#46039f"
             ],
             [
              0.2222222222222222,
              "#7201a8"
             ],
             [
              0.3333333333333333,
              "#9c179e"
             ],
             [
              0.4444444444444444,
              "#bd3786"
             ],
             [
              0.5555555555555556,
              "#d8576b"
             ],
             [
              0.6666666666666666,
              "#ed7953"
             ],
             [
              0.7777777777777778,
              "#fb9f3a"
             ],
             [
              0.8888888888888888,
              "#fdca26"
             ],
             [
              1,
              "#f0f921"
             ]
            ],
            "type": "histogram2d"
           }
          ],
          "histogram2dcontour": [
           {
            "colorbar": {
             "outlinewidth": 0,
             "ticks": ""
            },
            "colorscale": [
             [
              0,
              "#0d0887"
             ],
             [
              0.1111111111111111,
              "#46039f"
             ],
             [
              0.2222222222222222,
              "#7201a8"
             ],
             [
              0.3333333333333333,
              "#9c179e"
             ],
             [
              0.4444444444444444,
              "#bd3786"
             ],
             [
              0.5555555555555556,
              "#d8576b"
             ],
             [
              0.6666666666666666,
              "#ed7953"
             ],
             [
              0.7777777777777778,
              "#fb9f3a"
             ],
             [
              0.8888888888888888,
              "#fdca26"
             ],
             [
              1,
              "#f0f921"
             ]
            ],
            "type": "histogram2dcontour"
           }
          ],
          "mesh3d": [
           {
            "colorbar": {
             "outlinewidth": 0,
             "ticks": ""
            },
            "type": "mesh3d"
           }
          ],
          "parcoords": [
           {
            "line": {
             "colorbar": {
              "outlinewidth": 0,
              "ticks": ""
             }
            },
            "type": "parcoords"
           }
          ],
          "pie": [
           {
            "automargin": true,
            "type": "pie"
           }
          ],
          "scatter": [
           {
            "fillpattern": {
             "fillmode": "overlay",
             "size": 10,
             "solidity": 0.2
            },
            "type": "scatter"
           }
          ],
          "scatter3d": [
           {
            "line": {
             "colorbar": {
              "outlinewidth": 0,
              "ticks": ""
             }
            },
            "marker": {
             "colorbar": {
              "outlinewidth": 0,
              "ticks": ""
             }
            },
            "type": "scatter3d"
           }
          ],
          "scattercarpet": [
           {
            "marker": {
             "colorbar": {
              "outlinewidth": 0,
              "ticks": ""
             }
            },
            "type": "scattercarpet"
           }
          ],
          "scattergeo": [
           {
            "marker": {
             "colorbar": {
              "outlinewidth": 0,
              "ticks": ""
             }
            },
            "type": "scattergeo"
           }
          ],
          "scattergl": [
           {
            "marker": {
             "colorbar": {
              "outlinewidth": 0,
              "ticks": ""
             }
            },
            "type": "scattergl"
           }
          ],
          "scattermapbox": [
           {
            "marker": {
             "colorbar": {
              "outlinewidth": 0,
              "ticks": ""
             }
            },
            "type": "scattermapbox"
           }
          ],
          "scatterpolar": [
           {
            "marker": {
             "colorbar": {
              "outlinewidth": 0,
              "ticks": ""
             }
            },
            "type": "scatterpolar"
           }
          ],
          "scatterpolargl": [
           {
            "marker": {
             "colorbar": {
              "outlinewidth": 0,
              "ticks": ""
             }
            },
            "type": "scatterpolargl"
           }
          ],
          "scatterternary": [
           {
            "marker": {
             "colorbar": {
              "outlinewidth": 0,
              "ticks": ""
             }
            },
            "type": "scatterternary"
           }
          ],
          "surface": [
           {
            "colorbar": {
             "outlinewidth": 0,
             "ticks": ""
            },
            "colorscale": [
             [
              0,
              "#0d0887"
             ],
             [
              0.1111111111111111,
              "#46039f"
             ],
             [
              0.2222222222222222,
              "#7201a8"
             ],
             [
              0.3333333333333333,
              "#9c179e"
             ],
             [
              0.4444444444444444,
              "#bd3786"
             ],
             [
              0.5555555555555556,
              "#d8576b"
             ],
             [
              0.6666666666666666,
              "#ed7953"
             ],
             [
              0.7777777777777778,
              "#fb9f3a"
             ],
             [
              0.8888888888888888,
              "#fdca26"
             ],
             [
              1,
              "#f0f921"
             ]
            ],
            "type": "surface"
           }
          ],
          "table": [
           {
            "cells": {
             "fill": {
              "color": "#EBF0F8"
             },
             "line": {
              "color": "white"
             }
            },
            "header": {
             "fill": {
              "color": "#C8D4E3"
             },
             "line": {
              "color": "white"
             }
            },
            "type": "table"
           }
          ]
         },
         "layout": {
          "annotationdefaults": {
           "arrowcolor": "#2a3f5f",
           "arrowhead": 0,
           "arrowwidth": 1
          },
          "autotypenumbers": "strict",
          "coloraxis": {
           "colorbar": {
            "outlinewidth": 0,
            "ticks": ""
           }
          },
          "colorscale": {
           "diverging": [
            [
             0,
             "#8e0152"
            ],
            [
             0.1,
             "#c51b7d"
            ],
            [
             0.2,
             "#de77ae"
            ],
            [
             0.3,
             "#f1b6da"
            ],
            [
             0.4,
             "#fde0ef"
            ],
            [
             0.5,
             "#f7f7f7"
            ],
            [
             0.6,
             "#e6f5d0"
            ],
            [
             0.7,
             "#b8e186"
            ],
            [
             0.8,
             "#7fbc41"
            ],
            [
             0.9,
             "#4d9221"
            ],
            [
             1,
             "#276419"
            ]
           ],
           "sequential": [
            [
             0,
             "#0d0887"
            ],
            [
             0.1111111111111111,
             "#46039f"
            ],
            [
             0.2222222222222222,
             "#7201a8"
            ],
            [
             0.3333333333333333,
             "#9c179e"
            ],
            [
             0.4444444444444444,
             "#bd3786"
            ],
            [
             0.5555555555555556,
             "#d8576b"
            ],
            [
             0.6666666666666666,
             "#ed7953"
            ],
            [
             0.7777777777777778,
             "#fb9f3a"
            ],
            [
             0.8888888888888888,
             "#fdca26"
            ],
            [
             1,
             "#f0f921"
            ]
           ],
           "sequentialminus": [
            [
             0,
             "#0d0887"
            ],
            [
             0.1111111111111111,
             "#46039f"
            ],
            [
             0.2222222222222222,
             "#7201a8"
            ],
            [
             0.3333333333333333,
             "#9c179e"
            ],
            [
             0.4444444444444444,
             "#bd3786"
            ],
            [
             0.5555555555555556,
             "#d8576b"
            ],
            [
             0.6666666666666666,
             "#ed7953"
            ],
            [
             0.7777777777777778,
             "#fb9f3a"
            ],
            [
             0.8888888888888888,
             "#fdca26"
            ],
            [
             1,
             "#f0f921"
            ]
           ]
          },
          "colorway": [
           "#636efa",
           "#EF553B",
           "#00cc96",
           "#ab63fa",
           "#FFA15A",
           "#19d3f3",
           "#FF6692",
           "#B6E880",
           "#FF97FF",
           "#FECB52"
          ],
          "font": {
           "color": "#2a3f5f"
          },
          "geo": {
           "bgcolor": "white",
           "lakecolor": "white",
           "landcolor": "#E5ECF6",
           "showlakes": true,
           "showland": true,
           "subunitcolor": "white"
          },
          "hoverlabel": {
           "align": "left"
          },
          "hovermode": "closest",
          "mapbox": {
           "style": "light"
          },
          "paper_bgcolor": "white",
          "plot_bgcolor": "#E5ECF6",
          "polar": {
           "angularaxis": {
            "gridcolor": "white",
            "linecolor": "white",
            "ticks": ""
           },
           "bgcolor": "#E5ECF6",
           "radialaxis": {
            "gridcolor": "white",
            "linecolor": "white",
            "ticks": ""
           }
          },
          "scene": {
           "xaxis": {
            "backgroundcolor": "#E5ECF6",
            "gridcolor": "white",
            "gridwidth": 2,
            "linecolor": "white",
            "showbackground": true,
            "ticks": "",
            "zerolinecolor": "white"
           },
           "yaxis": {
            "backgroundcolor": "#E5ECF6",
            "gridcolor": "white",
            "gridwidth": 2,
            "linecolor": "white",
            "showbackground": true,
            "ticks": "",
            "zerolinecolor": "white"
           },
           "zaxis": {
            "backgroundcolor": "#E5ECF6",
            "gridcolor": "white",
            "gridwidth": 2,
            "linecolor": "white",
            "showbackground": true,
            "ticks": "",
            "zerolinecolor": "white"
           }
          },
          "shapedefaults": {
           "line": {
            "color": "#2a3f5f"
           }
          },
          "ternary": {
           "aaxis": {
            "gridcolor": "white",
            "linecolor": "white",
            "ticks": ""
           },
           "baxis": {
            "gridcolor": "white",
            "linecolor": "white",
            "ticks": ""
           },
           "bgcolor": "#E5ECF6",
           "caxis": {
            "gridcolor": "white",
            "linecolor": "white",
            "ticks": ""
           }
          },
          "title": {
           "x": 0.05
          },
          "xaxis": {
           "automargin": true,
           "gridcolor": "white",
           "linecolor": "white",
           "ticks": "",
           "title": {
            "standoff": 15
           },
           "zerolinecolor": "white",
           "zerolinewidth": 2
          },
          "yaxis": {
           "automargin": true,
           "gridcolor": "white",
           "linecolor": "white",
           "ticks": "",
           "title": {
            "standoff": 15
           },
           "zerolinecolor": "white",
           "zerolinewidth": 2
          }
         }
        },
        "title": {
         "font": {
          "color": "rgb(37,37,37)",
          "family": "Arial",
          "size": 30
         },
         "text": "Personality Traits across Sectors and Salaries",
         "x": 0.5
        },
        "width": 700,
        "xaxis": {
         "autorange": true,
         "linecolor": "rgb(204, 204, 204)",
         "linewidth": 2,
         "range": [
          0,
          4
         ],
         "showgrid": false,
         "showline": true,
         "showticklabels": true,
         "tickfont": {
          "color": "rgb(82, 82, 82)",
          "family": "Arial",
          "size": 12
         },
         "ticks": "outside",
         "type": "category"
        },
        "yaxis": {
         "autorange": true,
         "range": [
          -0.16666666666666666,
          3.1666666666666665
         ],
         "showgrid": false,
         "showline": false,
         "showticklabels": true,
         "type": "category",
         "zeroline": false
        }
       }
      },
      "image/png": "[encoded data removed]",
      "text/html": [
       "<div>                            <div id=\"d8699e53-2a4c-49d5-a173-e1e8919d8120\" class=\"plotly-graph-div\" style=\"height:525px; width:100%;\"></div>            <script type=\"text/javascript\">                require([\"plotly\"], function(Plotly) {                    window.PLOTLYENV=window.PLOTLYENV || {};                                    if (document.getElementById(\"d8699e53-2a4c-49d5-a173-e1e8919d8120\")) {                    Plotly.newPlot(                        \"d8699e53-2a4c-49d5-a173-e1e8919d8120\",                        [{\"connectgaps\":true,\"line\":{\"width\":2},\"mode\":\"lines\",\"name\":\"Finance - Openness\",\"x\":[\"\\u003c$50k\"],\"y\":[\"Finance\"],\"type\":\"scatter\"},{\"connectgaps\":true,\"line\":{\"width\":2},\"mode\":\"lines\",\"name\":\"Government - Openness\",\"x\":[],\"y\":[],\"type\":\"scatter\"},{\"connectgaps\":true,\"line\":{\"width\":2},\"mode\":\"lines\",\"name\":\"Technology - Openness\",\"x\":[],\"y\":[],\"type\":\"scatter\"},{\"connectgaps\":true,\"line\":{\"width\":2},\"mode\":\"lines\",\"name\":\"Healthcare - Openness\",\"x\":[],\"y\":[],\"type\":\"scatter\"},{\"connectgaps\":true,\"line\":{\"width\":2},\"mode\":\"lines\",\"name\":\"Finance - Neuroticism\",\"x\":[],\"y\":[],\"type\":\"scatter\"},{\"connectgaps\":true,\"line\":{\"width\":2},\"mode\":\"lines\",\"name\":\"Government - Neuroticism\",\"x\":[\"$50-100k\"],\"y\":[\"Government\"],\"type\":\"scatter\"},{\"connectgaps\":true,\"line\":{\"width\":2},\"mode\":\"lines\",\"name\":\"Technology - Neuroticism\",\"x\":[],\"y\":[],\"type\":\"scatter\"},{\"connectgaps\":true,\"line\":{\"width\":2},\"mode\":\"lines\",\"name\":\"Healthcare - Neuroticism\",\"x\":[],\"y\":[],\"type\":\"scatter\"},{\"connectgaps\":true,\"line\":{\"width\":2},\"mode\":\"lines\",\"name\":\"Finance - Conscientiousness\",\"x\":[],\"y\":[],\"type\":\"scatter\"},{\"connectgaps\":true,\"line\":{\"width\":2},\"mode\":\"lines\",\"name\":\"Government - Conscientiousness\",\"x\":[],\"y\":[],\"type\":\"scatter\"},{\"connectgaps\":true,\"line\":{\"width\":2},\"mode\":\"lines\",\"name\":\"Technology - Conscientiousness\",\"x\":[\"$100-150k\"],\"y\":[\"Technology\"],\"type\":\"scatter\"},{\"connectgaps\":true,\"line\":{\"width\":2},\"mode\":\"lines\",\"name\":\"Healthcare - Conscientiousness\",\"x\":[],\"y\":[],\"type\":\"scatter\"},{\"connectgaps\":true,\"line\":{\"width\":2},\"mode\":\"lines\",\"name\":\"Finance - Extraversion\",\"x\":[],\"y\":[],\"type\":\"scatter\"},{\"connectgaps\":true,\"line\":{\"width\":2},\"mode\":\"lines\",\"name\":\"Government - Extraversion\",\"x\":[],\"y\":[],\"type\":\"scatter\"},{\"connectgaps\":true,\"line\":{\"width\":2},\"mode\":\"lines\",\"name\":\"Technology - Extraversion\",\"x\":[\"$150-250k\"],\"y\":[\"Technology\"],\"type\":\"scatter\"},{\"connectgaps\":true,\"line\":{\"width\":2},\"mode\":\"lines\",\"name\":\"Healthcare - Extraversion\",\"x\":[],\"y\":[],\"type\":\"scatter\"},{\"connectgaps\":true,\"line\":{\"width\":2},\"mode\":\"lines\",\"name\":\"Finance - Agreeableness\",\"x\":[],\"y\":[],\"type\":\"scatter\"},{\"connectgaps\":true,\"line\":{\"width\":2},\"mode\":\"lines\",\"name\":\"Government - Agreeableness\",\"x\":[],\"y\":[],\"type\":\"scatter\"},{\"connectgaps\":true,\"line\":{\"width\":2},\"mode\":\"lines\",\"name\":\"Technology - Agreeableness\",\"x\":[],\"y\":[],\"type\":\"scatter\"},{\"connectgaps\":true,\"line\":{\"width\":2},\"mode\":\"lines\",\"name\":\"Healthcare - Agreeableness\",\"x\":[\"$250-500k\"],\"y\":[\"Healthcare\"],\"type\":\"scatter\"}],                        {\"template\":{\"data\":{\"histogram2dcontour\":[{\"type\":\"histogram2dcontour\",\"colorbar\":{\"outlinewidth\":0,\"ticks\":\"\"},\"colorscale\":[[0.0,\"#0d0887\"],[0.1111111111111111,\"#46039f\"],[0.2222222222222222,\"#7201a8\"],[0.3333333333333333,\"#9c179e\"],[0.4444444444444444,\"#bd3786\"],[0.5555555555555556,\"#d8576b\"],[0.6666666666666666,\"#ed7953\"],[0.7777777777777778,\"#fb9f3a\"],[0.8888888888888888,\"#fdca26\"],[1.0,\"#f0f921\"]]}],\"choropleth\":[{\"type\":\"choropleth\",\"colorbar\":{\"outlinewidth\":0,\"ticks\":\"\"}}],\"histogram2d\":[{\"type\":\"histogram2d\",\"colorbar\":{\"outlinewidth\":0,\"ticks\":\"\"},\"colorscale\":[[0.0,\"#0d0887\"],[0.1111111111111111,\"#46039f\"],[0.2222222222222222,\"#7201a8\"],[0.3333333333333333,\"#9c179e\"],[0.4444444444444444,\"#bd3786\"],[0.5555555555555556,\"#d8576b\"],[0.6666666666666666,\"#ed7953\"],[0.7777777777777778,\"#fb9f3a\"],[0.8888888888888888,\"#fdca26\"],[1.0,\"#f0f921\"]]}],\"heatmap\":[{\"type\":\"heatmap\",\"colorbar\":{\"outlinewidth\":0,\"ticks\":\"\"},\"colorscale\":[[0.0,\"#0d0887\"],[0.1111111111111111,\"#46039f\"],[0.2222222222222222,\"#7201a8\"],[0.3333333333333333,\"#9c179e\"],[0.4444444444444444,\"#bd3786\"],[0.5555555555555556,\"#d8576b\"],[0.6666666666666666,\"#ed7953\"],[0.7777777777777778,\"#fb9f3a\"],[0.8888888888888888,\"#fdca26\"],[1.0,\"#f0f921\"]]}],\"heatmapgl\":[{\"type\":\"heatmapgl\",\"colorbar\":{\"outlinewidth\":0,\"ticks\":\"\"},\"colorscale\":[[0.0,\"#0d0887\"],[0.1111111111111111,\"#46039f\"],[0.2222222222222222,\"#7201a8\"],[0.3333333333333333,\"#9c179e\"],[0.4444444444444444,\"#bd3786\"],[0.5555555555555556,\"#d8576b\"],[0.6666666666666666,\"#ed7953\"],[0.7777777777777778,\"#fb9f3a\"],[0.8888888888888888,\"#fdca26\"],[1.0,\"#f0f921\"]]}],\"contourcarpet\":[{\"type\":\"contourcarpet\",\"colorbar\":{\"outlinewidth\":0,\"ticks\":\"\"}}],\"contour\":[{\"type\":\"contour\",\"colorbar\":{\"outlinewidth\":0,\"ticks\":\"\"},\"colorscale\":[[0.0,\"#0d0887\"],[0.1111111111111111,\"#46039f\"],[0.2222222222222222,\"#7201a8\"],[0.3333333333333333,\"#9c179e\"],[0.4444444444444444,\"#bd3786\"],[0.5555555555555556,\"#d8576b\"],[0.6666666666666666,\"#ed7953\"],[0.7777777777777778,\"#fb9f3a\"],[0.8888888888888888,\"#fdca26\"],[1.0,\"#f0f921\"]]}],\"surface\":[{\"type\":\"surface\",\"colorbar\":{\"outlinewidth\":0,\"ticks\":\"\"},\"colorscale\":[[0.0,\"#0d0887\"],[0.1111111111111111,\"#46039f\"],[0.2222222222222222,\"#7201a8\"],[0.3333333333333333,\"#9c179e\"],[0.4444444444444444,\"#bd3786\"],[0.5555555555555556,\"#d8576b\"],[0.6666666666666666,\"#ed7953\"],[0.7777777777777778,\"#fb9f3a\"],[0.8888888888888888,\"#fdca26\"],[1.0,\"#f0f921\"]]}],\"mesh3d\":[{\"type\":\"mesh3d\",\"colorbar\":{\"outlinewidth\":0,\"ticks\":\"\"}}],\"scatter\":[{\"fillpattern\":{\"fillmode\":\"overlay\",\"size\":10,\"solidity\":0.2},\"type\":\"scatter\"}],\"parcoords\":[{\"type\":\"parcoords\",\"line\":{\"colorbar\":{\"outlinewidth\":0,\"ticks\":\"\"}}}],\"scatterpolargl\":[{\"type\":\"scatterpolargl\",\"marker\":{\"colorbar\":{\"outlinewidth\":0,\"ticks\":\"\"}}}],\"bar\":[{\"error_x\":{\"color\":\"#2a3f5f\"},\"error_y\":{\"color\":\"#2a3f5f\"},\"marker\":{\"line\":{\"color\":\"#E5ECF6\",\"width\":0.5},\"pattern\":{\"fillmode\":\"overlay\",\"size\":10,\"solidity\":0.2}},\"type\":\"bar\"}],\"scattergeo\":[{\"type\":\"scattergeo\",\"marker\":{\"colorbar\":{\"outlinewidth\":0,\"ticks\":\"\"}}}],\"scatterpolar\":[{\"type\":\"scatterpolar\",\"marker\":{\"colorbar\":{\"outlinewidth\":0,\"ticks\":\"\"}}}],\"histogram\":[{\"marker\":{\"pattern\":{\"fillmode\":\"overlay\",\"size\":10,\"solidity\":0.2}},\"type\":\"histogram\"}],\"scattergl\":[{\"type\":\"scattergl\",\"marker\":{\"colorbar\":{\"outlinewidth\":0,\"ticks\":\"\"}}}],\"scatter3d\":[{\"type\":\"scatter3d\",\"line\":{\"colorbar\":{\"outlinewidth\":0,\"ticks\":\"\"}},\"marker\":{\"colorbar\":{\"outlinewidth\":0,\"ticks\":\"\"}}}],\"scattermapbox\":[{\"type\":\"scattermapbox\",\"marker\":{\"colorbar\":{\"outlinewidth\":0,\"ticks\":\"\"}}}],\"scatterternary\":[{\"type\":\"scatterternary\",\"marker\":{\"colorbar\":{\"outlinewidth\":0,\"ticks\":\"\"}}}],\"scattercarpet\":[{\"type\":\"scattercarpet\",\"marker\":{\"colorbar\":{\"outlinewidth\":0,\"ticks\":\"\"}}}],\"carpet\":[{\"aaxis\":{\"endlinecolor\":\"#2a3f5f\",\"gridcolor\":\"white\",\"linecolor\":\"white\",\"minorgridcolor\":\"white\",\"startlinecolor\":\"#2a3f5f\"},\"baxis\":{\"endlinecolor\":\"#2a3f5f\",\"gridcolor\":\"white\",\"linecolor\":\"white\",\"minorgridcolor\":\"white\",\"startlinecolor\":\"#2a3f5f\"},\"type\":\"carpet\"}],\"table\":[{\"cells\":{\"fill\":{\"color\":\"#EBF0F8\"},\"line\":{\"color\":\"white\"}},\"header\":{\"fill\":{\"color\":\"#C8D4E3\"},\"line\":{\"color\":\"white\"}},\"type\":\"table\"}],\"barpolar\":[{\"marker\":{\"line\":{\"color\":\"#E5ECF6\",\"width\":0.5},\"pattern\":{\"fillmode\":\"overlay\",\"size\":10,\"solidity\":0.2}},\"type\":\"barpolar\"}],\"pie\":[{\"automargin\":true,\"type\":\"pie\"}]},\"layout\":{\"autotypenumbers\":\"strict\",\"colorway\":[\"#636efa\",\"#EF553B\",\"#00cc96\",\"#ab63fa\",\"#FFA15A\",\"#19d3f3\",\"#FF6692\",\"#B6E880\",\"#FF97FF\",\"#FECB52\"],\"font\":{\"color\":\"#2a3f5f\"},\"hovermode\":\"closest\",\"hoverlabel\":{\"align\":\"left\"},\"paper_bgcolor\":\"white\",\"plot_bgcolor\":\"#E5ECF6\",\"polar\":{\"bgcolor\":\"#E5ECF6\",\"angularaxis\":{\"gridcolor\":\"white\",\"linecolor\":\"white\",\"ticks\":\"\"},\"radialaxis\":{\"gridcolor\":\"white\",\"linecolor\":\"white\",\"ticks\":\"\"}},\"ternary\":{\"bgcolor\":\"#E5ECF6\",\"aaxis\":{\"gridcolor\":\"white\",\"linecolor\":\"white\",\"ticks\":\"\"},\"baxis\":{\"gridcolor\":\"white\",\"linecolor\":\"white\",\"ticks\":\"\"},\"caxis\":{\"gridcolor\":\"white\",\"linecolor\":\"white\",\"ticks\":\"\"}},\"coloraxis\":{\"colorbar\":{\"outlinewidth\":0,\"ticks\":\"\"}},\"colorscale\":{\"sequential\":[[0.0,\"#0d0887\"],[0.1111111111111111,\"#46039f\"],[0.2222222222222222,\"#7201a8\"],[0.3333333333333333,\"#9c179e\"],[0.4444444444444444,\"#bd3786\"],[0.5555555555555556,\"#d8576b\"],[0.6666666666666666,\"#ed7953\"],[0.7777777777777778,\"#fb9f3a\"],[0.8888888888888888,\"#fdca26\"],[1.0,\"#f0f921\"]],\"sequentialminus\":[[0.0,\"#0d0887\"],[0.1111111111111111,\"#46039f\"],[0.2222222222222222,\"#7201a8\"],[0.3333333333333333,\"#9c179e\"],[0.4444444444444444,\"#bd3786\"],[0.5555555555555556,\"#d8576b\"],[0.6666666666666666,\"#ed7953\"],[0.7777777777777778,\"#fb9f3a\"],[0.8888888888888888,\"#fdca26\"],[1.0,\"#f0f921\"]],\"diverging\":[[0,\"#8e0152\"],[0.1,\"#c51b7d\"],[0.2,\"#de77ae\"],[0.3,\"#f1b6da\"],[0.4,\"#fde0ef\"],[0.5,\"#f7f7f7\"],[0.6,\"#e6f5d0\"],[0.7,\"#b8e186\"],[0.8,\"#7fbc41\"],[0.9,\"#4d9221\"],[1,\"#276419\"]]},\"xaxis\":{\"gridcolor\":\"white\",\"linecolor\":\"white\",\"ticks\":\"\",\"title\":{\"standoff\":15},\"zerolinecolor\":\"white\",\"automargin\":true,\"zerolinewidth\":2},\"yaxis\":{\"gridcolor\":\"white\",\"linecolor\":\"white\",\"ticks\":\"\",\"title\":{\"standoff\":15},\"zerolinecolor\":\"white\",\"automargin\":true,\"zerolinewidth\":2},\"scene\":{\"xaxis\":{\"backgroundcolor\":\"#E5ECF6\",\"gridcolor\":\"white\",\"linecolor\":\"white\",\"showbackground\":true,\"ticks\":\"\",\"zerolinecolor\":\"white\",\"gridwidth\":2},\"yaxis\":{\"backgroundcolor\":\"#E5ECF6\",\"gridcolor\":\"white\",\"linecolor\":\"white\",\"showbackground\":true,\"ticks\":\"\",\"zerolinecolor\":\"white\",\"gridwidth\":2},\"zaxis\":{\"backgroundcolor\":\"#E5ECF6\",\"gridcolor\":\"white\",\"linecolor\":\"white\",\"showbackground\":true,\"ticks\":\"\",\"zerolinecolor\":\"white\",\"gridwidth\":2}},\"shapedefaults\":{\"line\":{\"color\":\"#2a3f5f\"}},\"annotationdefaults\":{\"arrowcolor\":\"#2a3f5f\",\"arrowhead\":0,\"arrowwidth\":1},\"geo\":{\"bgcolor\":\"white\",\"landcolor\":\"#E5ECF6\",\"subunitcolor\":\"white\",\"showland\":true,\"showlakes\":true,\"lakecolor\":\"white\"},\"title\":{\"x\":0.05},\"mapbox\":{\"style\":\"light\"}}},\"xaxis\":{\"tickfont\":{\"family\":\"Arial\",\"size\":12,\"color\":\"rgb(82, 82, 82)\"},\"showline\":true,\"showgrid\":false,\"showticklabels\":true,\"linecolor\":\"rgb(204, 204, 204)\",\"linewidth\":2,\"ticks\":\"outside\"},\"yaxis\":{\"showgrid\":false,\"zeroline\":false,\"showline\":false,\"showticklabels\":true},\"margin\":{\"autoexpand\":false,\"l\":100,\"r\":20,\"t\":110},\"autosize\":false,\"showlegend\":true,\"plot_bgcolor\":\"white\",\"title\":{\"font\":{\"family\":\"Arial\",\"size\":30,\"color\":\"rgb(37,37,37)\"},\"text\":\"Personality Traits across Sectors and Salaries\",\"x\":0.5}},                        {\"responsive\": true}                    ).then(function(){\n",
       "                            \n",
       "var gd = document.getElementById('d8699e53-2a4c-49d5-a173-e1e8919d8120');\n",
       "var x = new MutationObserver(function (mutations, observer) {{\n",
       "        var display = window.getComputedStyle(gd).display;\n",
       "        if (!display || display === 'none') {{\n",
       "            console.log([gd, 'removed!']);\n",
       "            Plotly.purge(gd);\n",
       "            observer.disconnect();\n",
       "        }}\n",
       "}});\n",
       "\n",
       "// Listen for the removal of the full notebook cells\n",
       "var notebookContainer = gd.closest('#notebook-container');\n",
       "if (notebookContainer) {{\n",
       "    x.observe(notebookContainer, {childList: true});\n",
       "}}\n",
       "\n",
       "// Listen for the clearing of the current output cell\n",
       "var outputEl = gd.closest('.output');\n",
       "if (outputEl) {{\n",
       "    x.observe(outputEl, {childList: true});\n",
       "}}\n",
       "\n",
       "                        })                };                });            </script>        </div>"
      ]
     },
     "metadata": {},
     "output_type": "display_data"
    }
   ],
   "source": [
    "# # Your new dataset\n",
    "# data = pd.DataFrame({\n",
    "#     'sector': ['Finance', 'Government', 'Technology', 'Technology', 'Healthcare'],\n",
    "#     'personality_trait': ['Openness', 'Neuroticism', 'Conscientiousness', 'Extraversion', 'Agreeableness'],\n",
    "#     'salary': ['<$50k', '$50-100k', '$100-150k', '$150-250k', '$250-500k'],\n",
    "# })\n",
    "\n",
    "# # Create x_data and y_data from the new dataset\n",
    "# sectors = data['sector'].unique()\n",
    "# personalities = data['personality_trait'].unique()\n",
    "\n",
    "# fig = go.Figure()\n",
    "\n",
    "# for personality in personalities:\n",
    "#     for sector in sectors:\n",
    "#         subset = data[(data['sector'] == sector) & (data['personality_trait'] == personality)]\n",
    "#         x_data = subset['salary'].tolist()\n",
    "#         y_data = [sector] * len(x_data)\n",
    "\n",
    "#         fig.add_trace(go.Scatter(x=x_data, y=y_data, mode='lines',\n",
    "#                                  name=f\"{sector} - {personality}\",\n",
    "#                                  line=dict(width=2),\n",
    "#                                  connectgaps=True))\n",
    "\n",
    "# fig.update_layout(\n",
    "#     xaxis=dict(\n",
    "#         showline=True,\n",
    "#         showgrid=False,\n",
    "#         showticklabels=True,\n",
    "#         linecolor='rgb(204, 204, 204)',\n",
    "#         linewidth=2,\n",
    "#         ticks='outside',\n",
    "#         tickfont=dict(\n",
    "#             family='Arial',\n",
    "#             size=12,\n",
    "#             color='rgb(82, 82, 82)',\n",
    "#         ),\n",
    "#     ),\n",
    "#     yaxis=dict(\n",
    "#         showgrid=False,\n",
    "#         zeroline=False,\n",
    "#         showline=False,\n",
    "#         showticklabels=True,\n",
    "#     ),\n",
    "#     autosize=False,\n",
    "#     margin=dict(\n",
    "#         autoexpand=False,\n",
    "#         l=100,\n",
    "#         r=20,\n",
    "#         t=110,\n",
    "#     ),\n",
    "#     showlegend=True,\n",
    "#     plot_bgcolor='white'\n",
    "# )\n",
    "\n",
    "# # Title\n",
    "# fig.update_layout(title_text='Personality Traits across Sectors and Salaries',\n",
    "#                   title_x=0.5,\n",
    "#                   title_font=dict(family='Arial', size=30, color='rgb(37,37,37)'))\n",
    "\n",
    "# fig.show()\n"
   ]
  },
  {
   "cell_type": "code",
   "execution_count": 33,
   "id": "50366aa1-1b3b-49ae-95bd-e2180821b9db",
   "metadata": {},
   "outputs": [
    {
     "data": {
      "application/vnd.plotly.v1+json": {
       "config": {
        "plotlyServerURL": "https://plot.ly"
       },
       "data": [
        {
         "alignmentgroup": "True",
         "hovertemplate": "personality_trait=Conscientiousness<br>salary=%{x}<br>sector=%{y}<extra></extra>",
         "legendgroup": "Conscientiousness",
         "marker": {
          "color": "#636efa",
          "pattern": {
           "shape": ""
          }
         },
         "name": "Conscientiousness",
         "offsetgroup": "Conscientiousness",
         "orientation": "v",
         "showlegend": true,
         "textposition": "auto",
         "type": "bar",
         "x": [
          ">$500k",
          "<$50k",
          "$250-500k",
          "$50-100k",
          "<$50k",
          "<$50k",
          "$250-500k",
          "<$50k",
          "$100-150k",
          "$100-150k",
          "$100-150k",
          "$150-250k",
          "$250-500k",
          "$250-500k",
          "$100-150k",
          "$100-150k",
          "<$50k",
          ">$500k",
          ">$500k",
          "$100-150k",
          "$100-150k",
          "<$50k",
          "$50-100k",
          "$100-150k",
          "<$50k",
          ">$500k",
          "$50-100k",
          "$50-100k",
          "$250-500k",
          "$50-100k",
          "$250-500k",
          "$250-500k",
          ">$500k",
          "$50-100k",
          ">$500k",
          "$100-150k",
          "<$50k",
          "$250-500k",
          ">$500k",
          "$50-100k",
          "$50-100k",
          ">$500k",
          "$250-500k",
          "$250-500k",
          "$250-500k",
          ">$500k",
          "$100-150k",
          "$250-500k",
          ">$500k",
          "<$50k",
          "$100-150k",
          "<$50k",
          "$50-100k",
          "$250-500k",
          ">$500k",
          ">$500k",
          "$250-500k",
          "$250-500k",
          "$250-500k",
          "$250-500k",
          ">$500k",
          "$150-250k",
          "$150-250k",
          ">$500k",
          "$150-250k",
          "$50-100k",
          "$250-500k",
          "$250-500k",
          "$250-500k",
          "$100-150k",
          "$50-100k",
          "$100-150k",
          ">$500k",
          "$100-150k",
          "$50-100k",
          "<$50k",
          "$50-100k",
          ">$500k",
          "$150-250k",
          "<$50k",
          "$250-500k",
          "$50-100k",
          "$50-100k",
          ">$500k",
          ">$500k",
          "$50-100k",
          "<$50k",
          "$250-500k",
          "$50-100k",
          "<$50k",
          "$150-250k",
          "$100-150k",
          "<$50k",
          ">$500k",
          "<$50k",
          "$100-150k",
          "$50-100k",
          "$250-500k",
          "<$50k",
          ">$500k",
          "$100-150k",
          "$50-100k",
          "$250-500k",
          ">$500k",
          "$250-500k",
          "$250-500k",
          "$250-500k",
          "$50-100k",
          "$250-500k",
          ">$500k",
          "$150-250k",
          ">$500k",
          "$150-250k",
          "$250-500k",
          "$250-500k",
          "$250-500k",
          "$100-150k",
          "$100-150k",
          "$50-100k",
          "$150-250k",
          "$100-150k",
          "$50-100k",
          "$50-100k",
          "$100-150k",
          "$250-500k",
          "$250-500k",
          "$100-150k",
          "$50-100k",
          "$250-500k",
          "$50-100k",
          "$150-250k",
          "<$50k",
          "$100-150k",
          "$150-250k",
          "$100-150k",
          "$100-150k",
          ">$500k",
          ">$500k",
          "$150-250k",
          "$100-150k",
          "$250-500k",
          "$100-150k",
          "$50-100k",
          ">$500k",
          "$150-250k",
          "$150-250k",
          "$250-500k",
          "$50-100k",
          "$150-250k",
          "$100-150k",
          ">$500k",
          "$250-500k",
          "$150-250k",
          "$250-500k",
          "$100-150k",
          "$50-100k",
          "$150-250k",
          "$50-100k",
          ">$500k",
          "$50-100k",
          "$50-100k",
          ">$500k",
          "$50-100k",
          "$150-250k",
          "$50-100k",
          ">$500k",
          ">$500k",
          "<$50k",
          "$100-150k",
          "$50-100k",
          "$250-500k",
          "$100-150k",
          "<$50k",
          ">$500k",
          "$250-500k",
          "$100-150k",
          "$50-100k",
          "$100-150k",
          "$100-150k",
          "$250-500k",
          "<$50k",
          "$150-250k",
          "$50-100k",
          ">$500k",
          ">$500k",
          ">$500k",
          "$150-250k",
          ">$500k",
          "$100-150k",
          "$250-500k",
          "<$50k",
          "$100-150k",
          "$250-500k",
          "$150-250k",
          "<$50k",
          "$100-150k",
          "$250-500k",
          "$50-100k",
          ">$500k",
          "$250-500k",
          ">$500k"
         ],
         "xaxis": "x",
         "y": [
          "Finance",
          "Government",
          "Technology",
          "Healthcare",
          "Hospitality",
          "Retail",
          "Healthcare",
          "Marketing",
          "Entertainment",
          "Technology",
          "Government",
          "Finance",
          "Entertainment",
          "Retail",
          "Marketing",
          "Education",
          "Education",
          "Technology",
          "Retail",
          "Finance",
          "Retail",
          "Government",
          "Education",
          "Government",
          "Healthcare",
          "Entertainment",
          "Technology",
          "Technology",
          "Retail",
          "Hospitality",
          "Government",
          "Finance",
          "Technology",
          "Healthcare",
          "Entertainment",
          "Education",
          "Hospitality",
          "Finance",
          "Retail",
          "Marketing",
          "Education",
          "Retail",
          "Retail",
          "Education",
          "Government",
          "Marketing",
          "Hospitality",
          "Entertainment",
          "Retail",
          "Healthcare",
          "Marketing",
          "Healthcare",
          "Education",
          "Government",
          "Finance",
          "Finance",
          "Healthcare",
          "Government",
          "Technology",
          "Technology",
          "Education",
          "Technology",
          "Marketing",
          "Technology",
          "Marketing",
          "Government",
          "Retail",
          "Education",
          "Healthcare",
          "Education",
          "Entertainment",
          "Government",
          "Education",
          "Healthcare",
          "Marketing",
          "Retail",
          "Government",
          "Technology",
          "Retail",
          "Technology",
          "Marketing",
          "Healthcare",
          "Hospitality",
          "Retail",
          "Technology",
          "Retail",
          "Hospitality",
          "Retail",
          "Education",
          "Hospitality",
          "Hospitality",
          "Hospitality",
          "Healthcare",
          "Entertainment",
          "Government",
          "Retail",
          "Marketing",
          "Technology",
          "Healthcare",
          "Healthcare",
          "Healthcare",
          "Healthcare",
          "Government",
          "Technology",
          "Hospitality",
          "Healthcare",
          "Technology",
          "Marketing",
          "Marketing",
          "Marketing",
          "Technology",
          "Entertainment",
          "Technology",
          "Technology",
          "Finance",
          "Marketing",
          "Retail",
          "Retail",
          "Entertainment",
          "Education",
          "Marketing",
          "Retail",
          "Marketing",
          "Hospitality",
          "Technology",
          "Hospitality",
          "Retail",
          "Healthcare",
          "Technology",
          "Finance",
          "Healthcare",
          "Retail",
          "Technology",
          "Finance",
          "Retail",
          "Retail",
          "Government",
          "Technology",
          "Finance",
          "Technology",
          "Government",
          "Education",
          "Finance",
          "Technology",
          "Entertainment",
          "Finance",
          "Healthcare",
          "Technology",
          "Education",
          "Government",
          "Healthcare",
          "Hospitality",
          "Hospitality",
          "Government",
          "Finance",
          "Entertainment",
          "Marketing",
          "Technology",
          "Retail",
          "Hospitality",
          "Healthcare",
          "Entertainment",
          "Finance",
          "Government",
          "Finance",
          "Healthcare",
          "Technology",
          "Education",
          "Government",
          "Healthcare",
          "Finance",
          "Education",
          "Entertainment",
          "Finance",
          "Hospitality",
          "Entertainment",
          "Government",
          "Education",
          "Finance",
          "Finance",
          "Education",
          "Entertainment",
          "Education",
          "Entertainment",
          "Healthcare",
          "Marketing",
          "Education",
          "Healthcare",
          "Education",
          "Finance",
          "Healthcare",
          "Technology",
          "Finance",
          "Government",
          "Government",
          "Government",
          "Entertainment",
          "Marketing",
          "Government",
          "Entertainment",
          "Healthcare"
         ],
         "yaxis": "y"
        },
        {
         "alignmentgroup": "True",
         "hovertemplate": "personality_trait=Extraversion<br>salary=%{x}<br>sector=%{y}<extra></extra>",
         "legendgroup": "Extraversion",
         "marker": {
          "color": "#EF553B",
          "pattern": {
           "shape": ""
          }
         },
         "name": "Extraversion",
         "offsetgroup": "Extraversion",
         "orientation": "v",
         "showlegend": true,
         "textposition": "auto",
         "type": "bar",
         "x": [
          "<$50k",
          "$150-250k",
          "$50-100k",
          "$150-250k",
          "$100-150k",
          "$150-250k",
          ">$500k",
          "$250-500k",
          "<$50k",
          "<$50k",
          "$100-150k",
          "$250-500k",
          "$50-100k",
          "<$50k",
          "$250-500k",
          ">$500k",
          "$250-500k",
          "$50-100k",
          "<$50k",
          ">$500k",
          ">$500k",
          "$50-100k",
          "$50-100k",
          ">$500k",
          "$50-100k",
          "$100-150k",
          "$150-250k",
          "<$50k",
          "$250-500k",
          "$50-100k",
          ">$500k",
          ">$500k",
          "$150-250k",
          "$250-500k",
          "$50-100k",
          "$100-150k",
          "$150-250k",
          ">$500k",
          "<$50k",
          "$150-250k",
          "$50-100k",
          ">$500k",
          "$50-100k",
          "$50-100k",
          "$100-150k",
          "$250-500k",
          "$250-500k",
          "$50-100k",
          "$100-150k",
          "$250-500k",
          "$250-500k",
          "$150-250k",
          ">$500k",
          "$100-150k",
          ">$500k",
          "<$50k",
          "$150-250k",
          "$100-150k",
          ">$500k",
          "$100-150k",
          "$50-100k",
          "$100-150k",
          "$150-250k",
          "<$50k",
          "$100-150k",
          "$250-500k",
          "$100-150k",
          ">$500k",
          "$250-500k",
          "$50-100k",
          "$50-100k",
          "$100-150k",
          "$100-150k",
          "$250-500k",
          "$150-250k",
          "$50-100k",
          ">$500k",
          "$250-500k",
          ">$500k",
          "$250-500k",
          ">$500k",
          ">$500k",
          "<$50k",
          "$150-250k",
          ">$500k",
          "<$50k",
          "$50-100k",
          ">$500k",
          "<$50k",
          "$100-150k",
          "$50-100k",
          "$100-150k",
          "$250-500k",
          "$250-500k",
          "$150-250k",
          "$100-150k",
          "$150-250k",
          "$250-500k",
          "$250-500k",
          "$50-100k",
          ">$500k",
          "$100-150k",
          "$150-250k",
          "$50-100k",
          "$50-100k",
          "$100-150k",
          "$250-500k",
          ">$500k",
          "$100-150k",
          "$250-500k",
          "$50-100k",
          "$100-150k",
          ">$500k",
          "<$50k",
          "$150-250k",
          "$150-250k",
          "$100-150k",
          "$50-100k",
          "<$50k",
          "<$50k",
          ">$500k",
          "$150-250k",
          "$150-250k",
          "$50-100k",
          ">$500k",
          "<$50k",
          "$250-500k",
          "<$50k",
          "$250-500k",
          "$150-250k",
          "$50-100k",
          "$100-150k",
          "$150-250k",
          "$100-150k",
          "$100-150k",
          ">$500k",
          ">$500k",
          "$150-250k",
          "$100-150k",
          ">$500k",
          "<$50k",
          ">$500k",
          "$150-250k",
          "<$50k",
          "$250-500k",
          "$150-250k",
          "$150-250k",
          "$100-150k",
          "$250-500k",
          "<$50k",
          "$150-250k",
          "$250-500k",
          "$250-500k",
          "$50-100k",
          "$50-100k",
          "$50-100k",
          ">$500k",
          "$100-150k",
          "<$50k",
          "$250-500k",
          "$50-100k",
          ">$500k",
          "<$50k",
          "$50-100k",
          ">$500k",
          "$50-100k",
          ">$500k",
          "$100-150k",
          "$150-250k",
          "<$50k",
          "$250-500k",
          "$250-500k",
          "$50-100k",
          "$250-500k",
          "$150-250k",
          "<$50k",
          "$150-250k",
          "$150-250k",
          "$250-500k",
          "$50-100k",
          "$150-250k",
          "$50-100k",
          ">$500k",
          "$150-250k",
          "$150-250k",
          "$50-100k",
          ">$500k",
          "$50-100k",
          "$50-100k",
          "<$50k",
          "$150-250k",
          "$50-100k",
          ">$500k",
          "$50-100k",
          "$100-150k",
          "$250-500k",
          "$250-500k",
          "<$50k",
          "$250-500k",
          ">$500k",
          "<$50k",
          "<$50k",
          "$100-150k",
          "$100-150k",
          "<$50k"
         ],
         "xaxis": "x",
         "y": [
          "Technology",
          "Finance",
          "Retail",
          "Marketing",
          "Education",
          "Retail",
          "Retail",
          "Finance",
          "Education",
          "Finance",
          "Entertainment",
          "Education",
          "Healthcare",
          "Government",
          "Technology",
          "Technology",
          "Marketing",
          "Entertainment",
          "Hospitality",
          "Entertainment",
          "Hospitality",
          "Healthcare",
          "Retail",
          "Government",
          "Marketing",
          "Finance",
          "Entertainment",
          "Finance",
          "Hospitality",
          "Technology",
          "Technology",
          "Finance",
          "Entertainment",
          "Government",
          "Entertainment",
          "Finance",
          "Technology",
          "Entertainment",
          "Government",
          "Hospitality",
          "Entertainment",
          "Entertainment",
          "Hospitality",
          "Technology",
          "Healthcare",
          "Hospitality",
          "Marketing",
          "Entertainment",
          "Finance",
          "Healthcare",
          "Education",
          "Government",
          "Technology",
          "Government",
          "Technology",
          "Government",
          "Marketing",
          "Hospitality",
          "Marketing",
          "Education",
          "Marketing",
          "Entertainment",
          "Healthcare",
          "Government",
          "Finance",
          "Finance",
          "Retail",
          "Finance",
          "Education",
          "Healthcare",
          "Marketing",
          "Education",
          "Hospitality",
          "Education",
          "Entertainment",
          "Education",
          "Marketing",
          "Finance",
          "Education",
          "Finance",
          "Retail",
          "Technology",
          "Finance",
          "Technology",
          "Hospitality",
          "Government",
          "Government",
          "Entertainment",
          "Hospitality",
          "Healthcare",
          "Hospitality",
          "Healthcare",
          "Marketing",
          "Marketing",
          "Finance",
          "Finance",
          "Hospitality",
          "Technology",
          "Retail",
          "Education",
          "Education",
          "Healthcare",
          "Hospitality",
          "Technology",
          "Retail",
          "Hospitality",
          "Retail",
          "Retail",
          "Technology",
          "Healthcare",
          "Retail",
          "Education",
          "Retail",
          "Education",
          "Hospitality",
          "Marketing",
          "Entertainment",
          "Finance",
          "Retail",
          "Marketing",
          "Marketing",
          "Marketing",
          "Retail",
          "Marketing",
          "Healthcare",
          "Finance",
          "Government",
          "Healthcare",
          "Education",
          "Technology",
          "Finance",
          "Hospitality",
          "Entertainment",
          "Education",
          "Healthcare",
          "Entertainment",
          "Healthcare",
          "Technology",
          "Retail",
          "Technology",
          "Retail",
          "Finance",
          "Technology",
          "Education",
          "Finance",
          "Retail",
          "Healthcare",
          "Technology",
          "Government",
          "Entertainment",
          "Government",
          "Marketing",
          "Hospitality",
          "Entertainment",
          "Hospitality",
          "Education",
          "Entertainment",
          "Retail",
          "Technology",
          "Healthcare",
          "Government",
          "Hospitality",
          "Government",
          "Technology",
          "Education",
          "Government",
          "Technology",
          "Technology",
          "Government",
          "Entertainment",
          "Healthcare",
          "Healthcare",
          "Finance",
          "Technology",
          "Government",
          "Entertainment",
          "Technology",
          "Government",
          "Finance",
          "Retail",
          "Entertainment",
          "Healthcare",
          "Hospitality",
          "Retail",
          "Retail",
          "Hospitality",
          "Technology",
          "Technology",
          "Technology",
          "Hospitality",
          "Entertainment",
          "Technology",
          "Technology",
          "Finance",
          "Education",
          "Retail",
          "Entertainment",
          "Government",
          "Retail",
          "Education",
          "Finance",
          "Hospitality",
          "Government",
          "Finance",
          "Marketing"
         ],
         "yaxis": "y"
        },
        {
         "alignmentgroup": "True",
         "hovertemplate": "personality_trait=Agreeableness<br>salary=%{x}<br>sector=%{y}<extra></extra>",
         "legendgroup": "Agreeableness",
         "marker": {
          "color": "#00cc96",
          "pattern": {
           "shape": ""
          }
         },
         "name": "Agreeableness",
         "offsetgroup": "Agreeableness",
         "orientation": "v",
         "showlegend": true,
         "textposition": "auto",
         "type": "bar",
         "x": [
          "$250-500k",
          "$250-500k",
          "$100-150k",
          "$150-250k",
          ">$500k",
          "$150-250k",
          "$150-250k",
          "$150-250k",
          "<$50k",
          "$150-250k",
          "$150-250k",
          ">$500k",
          "$50-100k",
          "$150-250k",
          "$250-500k",
          "$100-150k",
          "<$50k",
          "$250-500k",
          "$50-100k",
          "<$50k",
          "$250-500k",
          "<$50k",
          "<$50k",
          "$250-500k",
          "<$50k",
          "$150-250k",
          "$100-150k",
          "$150-250k",
          "<$50k",
          "<$50k",
          "$100-150k",
          "<$50k",
          "<$50k",
          "$250-500k",
          "$100-150k",
          "<$50k",
          "$150-250k",
          ">$500k",
          ">$500k",
          "$50-100k",
          "$250-500k",
          "$100-150k",
          "$250-500k",
          "$250-500k",
          "$100-150k",
          "<$50k",
          ">$500k",
          "$100-150k",
          ">$500k",
          "$150-250k",
          "$100-150k",
          "<$50k",
          "$250-500k",
          "$100-150k",
          "<$50k",
          "$150-250k",
          ">$500k",
          "$150-250k",
          "$100-150k",
          "<$50k",
          "$100-150k",
          "$50-100k",
          "<$50k",
          "<$50k",
          ">$500k",
          ">$500k",
          ">$500k",
          "<$50k",
          ">$500k",
          "$100-150k",
          "$150-250k",
          ">$500k",
          "$100-150k",
          "$100-150k",
          ">$500k",
          ">$500k",
          "$250-500k",
          "$50-100k",
          "$100-150k",
          "$50-100k",
          "$250-500k",
          "$100-150k",
          "$150-250k",
          "$250-500k",
          "$150-250k",
          "$250-500k",
          "<$50k",
          "$150-250k",
          "$50-100k",
          "$250-500k",
          "<$50k",
          ">$500k",
          "$100-150k",
          "$150-250k",
          "$100-150k",
          "$100-150k",
          "$150-250k",
          "$150-250k",
          "$50-100k",
          "$50-100k",
          "$50-100k",
          ">$500k",
          "$100-150k",
          "$100-150k",
          "$100-150k",
          "$50-100k",
          "$150-250k",
          "$100-150k",
          ">$500k",
          "<$50k",
          "$150-250k",
          "$100-150k",
          "$100-150k",
          "$150-250k",
          "$250-500k",
          "$50-100k",
          "<$50k",
          "$250-500k",
          "$150-250k",
          "$150-250k",
          "$250-500k",
          "$150-250k",
          "$100-150k",
          "$100-150k",
          "$100-150k",
          "$250-500k",
          ">$500k",
          ">$500k",
          "$100-150k",
          "$250-500k",
          "$250-500k",
          "$150-250k",
          ">$500k",
          "$250-500k",
          "$150-250k",
          ">$500k",
          "<$50k",
          ">$500k",
          "$250-500k",
          "$250-500k",
          "$50-100k",
          ">$500k",
          "$250-500k",
          "$50-100k",
          "$250-500k",
          ">$500k",
          "$250-500k",
          "<$50k",
          "$50-100k",
          "$50-100k",
          "$150-250k",
          "$100-150k",
          "$100-150k",
          "$50-100k",
          ">$500k",
          "$100-150k",
          "$50-100k",
          "<$50k",
          "$100-150k",
          "$100-150k",
          "$250-500k",
          "<$50k",
          "$250-500k",
          "$250-500k",
          "$50-100k",
          "$100-150k",
          "<$50k",
          ">$500k",
          "$50-100k",
          ">$500k",
          "$150-250k",
          "$250-500k",
          "$150-250k",
          "$250-500k",
          "$250-500k",
          "$100-150k",
          "$250-500k",
          "$150-250k",
          ">$500k",
          "$150-250k",
          "$50-100k",
          ">$500k",
          ">$500k",
          "$150-250k",
          "$50-100k",
          "<$50k",
          ">$500k",
          "$100-150k",
          "$250-500k",
          "<$50k",
          "<$50k",
          "$50-100k",
          "$100-150k",
          "$150-250k",
          ">$500k",
          "$100-150k",
          "$250-500k",
          "<$50k",
          "<$50k",
          "$100-150k"
         ],
         "xaxis": "x",
         "y": [
          "Marketing",
          "Education",
          "Healthcare",
          "Technology",
          "Technology",
          "Education",
          "Retail",
          "Healthcare",
          "Education",
          "Education",
          "Hospitality",
          "Education",
          "Entertainment",
          "Entertainment",
          "Retail",
          "Entertainment",
          "Government",
          "Hospitality",
          "Marketing",
          "Finance",
          "Entertainment",
          "Education",
          "Education",
          "Hospitality",
          "Healthcare",
          "Finance",
          "Government",
          "Finance",
          "Finance",
          "Entertainment",
          "Healthcare",
          "Healthcare",
          "Healthcare",
          "Education",
          "Entertainment",
          "Education",
          "Retail",
          "Education",
          "Finance",
          "Government",
          "Education",
          "Finance",
          "Healthcare",
          "Retail",
          "Finance",
          "Marketing",
          "Entertainment",
          "Government",
          "Technology",
          "Healthcare",
          "Healthcare",
          "Hospitality",
          "Entertainment",
          "Healthcare",
          "Technology",
          "Marketing",
          "Education",
          "Technology",
          "Entertainment",
          "Education",
          "Government",
          "Marketing",
          "Education",
          "Entertainment",
          "Education",
          "Retail",
          "Finance",
          "Hospitality",
          "Entertainment",
          "Education",
          "Marketing",
          "Retail",
          "Technology",
          "Entertainment",
          "Hospitality",
          "Hospitality",
          "Education",
          "Marketing",
          "Entertainment",
          "Marketing",
          "Education",
          "Hospitality",
          "Finance",
          "Finance",
          "Healthcare",
          "Education",
          "Education",
          "Marketing",
          "Finance",
          "Hospitality",
          "Entertainment",
          "Marketing",
          "Government",
          "Education",
          "Marketing",
          "Hospitality",
          "Healthcare",
          "Education",
          "Retail",
          "Healthcare",
          "Marketing",
          "Finance",
          "Education",
          "Healthcare",
          "Government",
          "Healthcare",
          "Education",
          "Retail",
          "Healthcare",
          "Technology",
          "Retail",
          "Entertainment",
          "Entertainment",
          "Entertainment",
          "Healthcare",
          "Education",
          "Technology",
          "Technology",
          "Government",
          "Technology",
          "Hospitality",
          "Technology",
          "Technology",
          "Finance",
          "Healthcare",
          "Technology",
          "Technology",
          "Entertainment",
          "Healthcare",
          "Marketing",
          "Entertainment",
          "Retail",
          "Marketing",
          "Technology",
          "Marketing",
          "Hospitality",
          "Healthcare",
          "Finance",
          "Government",
          "Hospitality",
          "Technology",
          "Marketing",
          "Education",
          "Retail",
          "Entertainment",
          "Finance",
          "Technology",
          "Education",
          "Entertainment",
          "Retail",
          "Healthcare",
          "Entertainment",
          "Healthcare",
          "Technology",
          "Hospitality",
          "Marketing",
          "Education",
          "Healthcare",
          "Education",
          "Retail",
          "Education",
          "Government",
          "Technology",
          "Retail",
          "Technology",
          "Healthcare",
          "Education",
          "Technology",
          "Marketing",
          "Marketing",
          "Retail",
          "Hospitality",
          "Hospitality",
          "Retail",
          "Technology",
          "Finance",
          "Government",
          "Entertainment",
          "Healthcare",
          "Education",
          "Education",
          "Finance",
          "Education",
          "Entertainment",
          "Technology",
          "Marketing",
          "Finance",
          "Healthcare",
          "Technology",
          "Hospitality",
          "Government",
          "Education",
          "Marketing",
          "Hospitality",
          "Technology",
          "Healthcare",
          "Marketing",
          "Retail",
          "Government",
          "Education"
         ],
         "yaxis": "y"
        },
        {
         "alignmentgroup": "True",
         "hovertemplate": "personality_trait=Neuroticism<br>salary=%{x}<br>sector=%{y}<extra></extra>",
         "legendgroup": "Neuroticism",
         "marker": {
          "color": "#ab63fa",
          "pattern": {
           "shape": ""
          }
         },
         "name": "Neuroticism",
         "offsetgroup": "Neuroticism",
         "orientation": "v",
         "showlegend": true,
         "textposition": "auto",
         "type": "bar",
         "x": [
          "$250-500k",
          "$250-500k",
          "$50-100k",
          ">$500k",
          ">$500k",
          "<$50k",
          "<$50k",
          "$250-500k",
          "$100-150k",
          ">$500k",
          "$250-500k",
          ">$500k",
          "$250-500k",
          "$250-500k",
          ">$500k",
          "$100-150k",
          "<$50k",
          "$50-100k",
          "$50-100k",
          ">$500k",
          "$150-250k",
          "$250-500k",
          ">$500k",
          ">$500k",
          "$50-100k",
          "$150-250k",
          "$250-500k",
          "$100-150k",
          "$50-100k",
          "$150-250k",
          "$100-150k",
          "<$50k",
          "$150-250k",
          "$50-100k",
          "$250-500k",
          "$50-100k",
          "$150-250k",
          "$150-250k",
          "<$50k",
          "$100-150k",
          ">$500k",
          "$100-150k",
          "<$50k",
          "$150-250k",
          "$100-150k",
          "$250-500k",
          "$50-100k",
          "$50-100k",
          "$100-150k",
          ">$500k",
          "$150-250k",
          "$50-100k",
          ">$500k",
          "$150-250k",
          "$150-250k",
          "$250-500k",
          "$50-100k",
          ">$500k",
          "<$50k",
          "$250-500k",
          "$100-150k",
          ">$500k",
          "$100-150k",
          "$150-250k",
          ">$500k",
          "$50-100k",
          "$50-100k",
          "$150-250k",
          "$250-500k",
          "<$50k",
          "$250-500k",
          "$150-250k",
          "$150-250k",
          "$100-150k",
          "$250-500k",
          "$100-150k",
          "$250-500k",
          "<$50k",
          "$50-100k",
          "$50-100k",
          "<$50k",
          "<$50k",
          "$50-100k",
          "$150-250k",
          "$250-500k",
          "$250-500k",
          "$100-150k",
          "$150-250k",
          "$250-500k",
          "$100-150k",
          "$250-500k",
          "<$50k",
          "$150-250k",
          "$250-500k",
          "<$50k",
          "<$50k",
          "$150-250k",
          "$250-500k",
          "$100-150k",
          "$50-100k",
          "$250-500k",
          "$150-250k",
          "$50-100k",
          "$100-150k",
          "$100-150k",
          "$50-100k",
          "$50-100k",
          "$50-100k",
          "$150-250k",
          "$250-500k",
          "$50-100k",
          "$150-250k",
          "$150-250k",
          "$250-500k",
          "$50-100k",
          "$100-150k",
          "<$50k",
          "$100-150k",
          "<$50k",
          "$250-500k",
          "$50-100k",
          "$50-100k",
          "$50-100k",
          "$250-500k",
          "<$50k",
          ">$500k",
          "$150-250k",
          ">$500k",
          "$150-250k",
          "$150-250k",
          "<$50k",
          "$100-150k",
          "$150-250k",
          "$50-100k",
          "$250-500k",
          ">$500k",
          "$50-100k",
          "$150-250k",
          "$150-250k",
          "$250-500k",
          "$250-500k",
          "$50-100k",
          "$250-500k",
          "$250-500k",
          "<$50k",
          "$100-150k",
          "$250-500k",
          "$250-500k",
          "$100-150k",
          "$250-500k",
          "$150-250k",
          "<$50k",
          ">$500k",
          "<$50k",
          ">$500k",
          "$150-250k",
          "$100-150k",
          "<$50k",
          "$250-500k",
          "$150-250k",
          "<$50k",
          "<$50k",
          "$100-150k",
          "<$50k",
          "$50-100k",
          "$150-250k",
          ">$500k",
          "<$50k",
          "$250-500k",
          "<$50k",
          "$150-250k",
          "<$50k",
          ">$500k",
          "$150-250k",
          "$100-150k",
          "$50-100k",
          ">$500k",
          "$150-250k",
          "<$50k",
          "$150-250k",
          "$150-250k",
          "<$50k",
          "$100-150k",
          "$100-150k",
          "$100-150k",
          "$50-100k",
          "$250-500k",
          "$100-150k",
          "$150-250k",
          "$150-250k",
          ">$500k",
          "$250-500k",
          ">$500k",
          "$100-150k",
          "$100-150k",
          "<$50k",
          "$250-500k",
          ">$500k",
          "$250-500k",
          "$250-500k"
         ],
         "xaxis": "x",
         "y": [
          "Education",
          "Hospitality",
          "Government",
          "Education",
          "Technology",
          "Technology",
          "Government",
          "Government",
          "Technology",
          "Technology",
          "Government",
          "Government",
          "Entertainment",
          "Marketing",
          "Technology",
          "Healthcare",
          "Retail",
          "Government",
          "Entertainment",
          "Education",
          "Marketing",
          "Hospitality",
          "Marketing",
          "Hospitality",
          "Hospitality",
          "Hospitality",
          "Finance",
          "Finance",
          "Hospitality",
          "Hospitality",
          "Entertainment",
          "Healthcare",
          "Finance",
          "Hospitality",
          "Technology",
          "Marketing",
          "Finance",
          "Marketing",
          "Healthcare",
          "Marketing",
          "Finance",
          "Retail",
          "Retail",
          "Hospitality",
          "Finance",
          "Technology",
          "Healthcare",
          "Government",
          "Marketing",
          "Healthcare",
          "Retail",
          "Education",
          "Retail",
          "Education",
          "Marketing",
          "Technology",
          "Technology",
          "Retail",
          "Marketing",
          "Government",
          "Government",
          "Finance",
          "Marketing",
          "Healthcare",
          "Retail",
          "Government",
          "Government",
          "Marketing",
          "Retail",
          "Technology",
          "Government",
          "Government",
          "Retail",
          "Marketing",
          "Finance",
          "Government",
          "Healthcare",
          "Technology",
          "Healthcare",
          "Healthcare",
          "Education",
          "Finance",
          "Healthcare",
          "Education",
          "Entertainment",
          "Hospitality",
          "Hospitality",
          "Hospitality",
          "Finance",
          "Education",
          "Hospitality",
          "Education",
          "Education",
          "Marketing",
          "Marketing",
          "Retail",
          "Entertainment",
          "Retail",
          "Marketing",
          "Government",
          "Technology",
          "Government",
          "Technology",
          "Healthcare",
          "Marketing",
          "Hospitality",
          "Healthcare",
          "Education",
          "Entertainment",
          "Hospitality",
          "Government",
          "Finance",
          "Government",
          "Marketing",
          "Healthcare",
          "Hospitality",
          "Education",
          "Education",
          "Technology",
          "Healthcare",
          "Education",
          "Government",
          "Healthcare",
          "Technology",
          "Retail",
          "Government",
          "Hospitality",
          "Technology",
          "Healthcare",
          "Education",
          "Government",
          "Entertainment",
          "Entertainment",
          "Marketing",
          "Retail",
          "Hospitality",
          "Entertainment",
          "Government",
          "Finance",
          "Education",
          "Healthcare",
          "Education",
          "Hospitality",
          "Marketing",
          "Marketing",
          "Government",
          "Healthcare",
          "Finance",
          "Technology",
          "Finance",
          "Education",
          "Hospitality",
          "Entertainment",
          "Technology",
          "Marketing",
          "Technology",
          "Hospitality",
          "Healthcare",
          "Entertainment",
          "Finance",
          "Retail",
          "Technology",
          "Government",
          "Technology",
          "Government",
          "Hospitality",
          "Healthcare",
          "Government",
          "Marketing",
          "Government",
          "Education",
          "Technology",
          "Marketing",
          "Education",
          "Hospitality",
          "Healthcare",
          "Hospitality",
          "Healthcare",
          "Healthcare",
          "Education",
          "Marketing",
          "Education",
          "Healthcare",
          "Government",
          "Finance",
          "Technology",
          "Education",
          "Education",
          "Healthcare",
          "Technology",
          "Finance",
          "Education",
          "Government",
          "Education",
          "Education",
          "Marketing",
          "Technology",
          "Technology",
          "Hospitality",
          "Entertainment"
         ],
         "yaxis": "y"
        },
        {
         "alignmentgroup": "True",
         "hovertemplate": "personality_trait=Openness<br>salary=%{x}<br>sector=%{y}<extra></extra>",
         "legendgroup": "Openness",
         "marker": {
          "color": "#FFA15A",
          "pattern": {
           "shape": ""
          }
         },
         "name": "Openness",
         "offsetgroup": "Openness",
         "orientation": "v",
         "showlegend": true,
         "textposition": "auto",
         "type": "bar",
         "x": [
          ">$500k",
          "$150-250k",
          "$150-250k",
          ">$500k",
          "$100-150k",
          "$250-500k",
          "$100-150k",
          "$50-100k",
          "$50-100k",
          "<$50k",
          "$250-500k",
          "$150-250k",
          "$250-500k",
          "$50-100k",
          "<$50k",
          "$50-100k",
          "$100-150k",
          "$250-500k",
          "$250-500k",
          ">$500k",
          "$150-250k",
          "$250-500k",
          ">$500k",
          "$50-100k",
          ">$500k",
          "$150-250k",
          "$50-100k",
          "$150-250k",
          ">$500k",
          ">$500k",
          "$100-150k",
          "$50-100k",
          "$250-500k",
          "<$50k",
          ">$500k",
          "$250-500k",
          "$150-250k",
          "$50-100k",
          "$50-100k",
          "$250-500k",
          "$50-100k",
          "<$50k",
          "<$50k",
          "$50-100k",
          "$100-150k",
          "$50-100k",
          ">$500k",
          "$100-150k",
          "<$50k",
          "$250-500k",
          ">$500k",
          "<$50k",
          "<$50k",
          "<$50k",
          "<$50k",
          "$150-250k",
          ">$500k",
          "$250-500k",
          "<$50k",
          ">$500k",
          "$50-100k",
          "$250-500k",
          "<$50k",
          ">$500k",
          "$250-500k",
          "<$50k",
          "$50-100k",
          "<$50k",
          "$250-500k",
          "$150-250k",
          "<$50k",
          "<$50k",
          "$250-500k",
          "$50-100k",
          "<$50k",
          "<$50k",
          "$150-250k",
          "<$50k",
          "$250-500k",
          "$50-100k",
          "$50-100k",
          "$150-250k",
          "<$50k",
          "$50-100k",
          ">$500k",
          "$50-100k",
          ">$500k",
          "<$50k",
          "$100-150k",
          "$50-100k",
          "$150-250k",
          "<$50k",
          "<$50k",
          "$150-250k",
          "$250-500k",
          "$50-100k",
          "$250-500k",
          "$150-250k",
          "$100-150k",
          "<$50k",
          ">$500k",
          "$250-500k",
          "$250-500k",
          "$250-500k",
          ">$500k",
          "<$50k",
          ">$500k",
          "$100-150k",
          "$250-500k",
          "<$50k",
          "$50-100k",
          "$250-500k",
          "$250-500k",
          "$150-250k",
          "$150-250k",
          "$150-250k",
          "<$50k",
          "<$50k",
          "$150-250k",
          "<$50k",
          "<$50k",
          "$50-100k",
          "$50-100k",
          "$50-100k",
          "<$50k",
          "<$50k",
          "$150-250k",
          "$150-250k",
          ">$500k",
          ">$500k",
          ">$500k",
          "$100-150k",
          "$50-100k",
          "$250-500k",
          "$50-100k",
          "$100-150k",
          "<$50k",
          "$150-250k",
          "$50-100k",
          ">$500k",
          "$50-100k",
          "<$50k",
          ">$500k",
          "<$50k",
          ">$500k",
          "$50-100k",
          "$150-250k",
          "$100-150k",
          "<$50k",
          "<$50k",
          "<$50k",
          "$250-500k",
          "$100-150k",
          "<$50k",
          "$150-250k",
          "$150-250k",
          "$100-150k",
          ">$500k",
          ">$500k",
          "$150-250k",
          "<$50k",
          ">$500k",
          ">$500k",
          ">$500k",
          "$50-100k",
          "$250-500k",
          "$50-100k",
          "$150-250k",
          "$150-250k",
          "<$50k",
          "$100-150k",
          ">$500k",
          "$250-500k",
          "$150-250k",
          "$250-500k",
          "$100-150k",
          "<$50k",
          "$250-500k",
          ">$500k",
          "$100-150k",
          "$150-250k",
          "<$50k",
          "$50-100k",
          "$150-250k",
          "$250-500k",
          "$250-500k",
          "$150-250k",
          "<$50k",
          "$50-100k",
          "$150-250k",
          "$100-150k",
          "$100-150k",
          "$50-100k",
          "$150-250k"
         ],
         "xaxis": "x",
         "y": [
          "Hospitality",
          "Technology",
          "Government",
          "Education",
          "Retail",
          "Healthcare",
          "Retail",
          "Retail",
          "Marketing",
          "Education",
          "Marketing",
          "Healthcare",
          "Government",
          "Technology",
          "Hospitality",
          "Government",
          "Hospitality",
          "Healthcare",
          "Finance",
          "Finance",
          "Marketing",
          "Technology",
          "Retail",
          "Retail",
          "Government",
          "Government",
          "Entertainment",
          "Entertainment",
          "Retail",
          "Retail",
          "Government",
          "Finance",
          "Hospitality",
          "Marketing",
          "Marketing",
          "Finance",
          "Retail",
          "Hospitality",
          "Government",
          "Healthcare",
          "Retail",
          "Government",
          "Government",
          "Hospitality",
          "Marketing",
          "Retail",
          "Entertainment",
          "Government",
          "Hospitality",
          "Education",
          "Government",
          "Government",
          "Entertainment",
          "Marketing",
          "Government",
          "Marketing",
          "Finance",
          "Hospitality",
          "Healthcare",
          "Hospitality",
          "Technology",
          "Marketing",
          "Government",
          "Retail",
          "Marketing",
          "Finance",
          "Finance",
          "Government",
          "Retail",
          "Education",
          "Marketing",
          "Marketing",
          "Hospitality",
          "Government",
          "Healthcare",
          "Technology",
          "Entertainment",
          "Healthcare",
          "Hospitality",
          "Education",
          "Education",
          "Hospitality",
          "Technology",
          "Marketing",
          "Entertainment",
          "Healthcare",
          "Marketing",
          "Entertainment",
          "Hospitality",
          "Finance",
          "Marketing",
          "Retail",
          "Retail",
          "Retail",
          "Retail",
          "Healthcare",
          "Healthcare",
          "Healthcare",
          "Entertainment",
          "Technology",
          "Healthcare",
          "Entertainment",
          "Retail",
          "Education",
          "Government",
          "Government",
          "Entertainment",
          "Education",
          "Education",
          "Hospitality",
          "Government",
          "Entertainment",
          "Marketing",
          "Healthcare",
          "Healthcare",
          "Entertainment",
          "Healthcare",
          "Retail",
          "Entertainment",
          "Healthcare",
          "Healthcare",
          "Marketing",
          "Retail",
          "Healthcare",
          "Retail",
          "Government",
          "Hospitality",
          "Retail",
          "Entertainment",
          "Entertainment",
          "Government",
          "Government",
          "Education",
          "Government",
          "Entertainment",
          "Hospitality",
          "Healthcare",
          "Education",
          "Government",
          "Government",
          "Marketing",
          "Finance",
          "Finance",
          "Finance",
          "Retail",
          "Finance",
          "Entertainment",
          "Government",
          "Education",
          "Retail",
          "Education",
          "Hospitality",
          "Finance",
          "Retail",
          "Finance",
          "Marketing",
          "Education",
          "Healthcare",
          "Finance",
          "Entertainment",
          "Marketing",
          "Finance",
          "Hospitality",
          "Technology",
          "Finance",
          "Finance",
          "Entertainment",
          "Retail",
          "Technology",
          "Technology",
          "Hospitality",
          "Hospitality",
          "Education",
          "Hospitality",
          "Entertainment",
          "Government",
          "Marketing",
          "Healthcare",
          "Government",
          "Hospitality",
          "Retail",
          "Retail",
          "Retail",
          "Government",
          "Marketing",
          "Finance",
          "Hospitality",
          "Government",
          "Entertainment",
          "Government",
          "Retail",
          "Technology",
          "Retail",
          "Finance"
         ],
         "yaxis": "y"
        }
       ],
       "layout": {
        "autosize": true,
        "barmode": "relative",
        "legend": {
         "title": {
          "text": "personality_trait"
         },
         "tracegroupgap": 0
        },
        "margin": {
         "t": 60
        },
        "template": {
         "data": {
          "bar": [
           {
            "error_x": {
             "color": "#2a3f5f"
            },
            "error_y": {
             "color": "#2a3f5f"
            },
            "marker": {
             "line": {
              "color": "#E5ECF6",
              "width": 0.5
             },
             "pattern": {
              "fillmode": "overlay",
              "size": 10,
              "solidity": 0.2
             }
            },
            "type": "bar"
           }
          ],
          "barpolar": [
           {
            "marker": {
             "line": {
              "color": "#E5ECF6",
              "width": 0.5
             },
             "pattern": {
              "fillmode": "overlay",
              "size": 10,
              "solidity": 0.2
             }
            },
            "type": "barpolar"
           }
          ],
          "carpet": [
           {
            "aaxis": {
             "endlinecolor": "#2a3f5f",
             "gridcolor": "white",
             "linecolor": "white",
             "minorgridcolor": "white",
             "startlinecolor": "#2a3f5f"
            },
            "baxis": {
             "endlinecolor": "#2a3f5f",
             "gridcolor": "white",
             "linecolor": "white",
             "minorgridcolor": "white",
             "startlinecolor": "#2a3f5f"
            },
            "type": "carpet"
           }
          ],
          "choropleth": [
           {
            "colorbar": {
             "outlinewidth": 0,
             "ticks": ""
            },
            "type": "choropleth"
           }
          ],
          "contour": [
           {
            "colorbar": {
             "outlinewidth": 0,
             "ticks": ""
            },
            "colorscale": [
             [
              0,
              "#0d0887"
             ],
             [
              0.1111111111111111,
              "#46039f"
             ],
             [
              0.2222222222222222,
              "#7201a8"
             ],
             [
              0.3333333333333333,
              "#9c179e"
             ],
             [
              0.4444444444444444,
              "#bd3786"
             ],
             [
              0.5555555555555556,
              "#d8576b"
             ],
             [
              0.6666666666666666,
              "#ed7953"
             ],
             [
              0.7777777777777778,
              "#fb9f3a"
             ],
             [
              0.8888888888888888,
              "#fdca26"
             ],
             [
              1,
              "#f0f921"
             ]
            ],
            "type": "contour"
           }
          ],
          "contourcarpet": [
           {
            "colorbar": {
             "outlinewidth": 0,
             "ticks": ""
            },
            "type": "contourcarpet"
           }
          ],
          "heatmap": [
           {
            "colorbar": {
             "outlinewidth": 0,
             "ticks": ""
            },
            "colorscale": [
             [
              0,
              "#0d0887"
             ],
             [
              0.1111111111111111,
              "#46039f"
             ],
             [
              0.2222222222222222,
              "#7201a8"
             ],
             [
              0.3333333333333333,
              "#9c179e"
             ],
             [
              0.4444444444444444,
              "#bd3786"
             ],
             [
              0.5555555555555556,
              "#d8576b"
             ],
             [
              0.6666666666666666,
              "#ed7953"
             ],
             [
              0.7777777777777778,
              "#fb9f3a"
             ],
             [
              0.8888888888888888,
              "#fdca26"
             ],
             [
              1,
              "#f0f921"
             ]
            ],
            "type": "heatmap"
           }
          ],
          "heatmapgl": [
           {
            "colorbar": {
             "outlinewidth": 0,
             "ticks": ""
            },
            "colorscale": [
             [
              0,
              "#0d0887"
             ],
             [
              0.1111111111111111,
              "#46039f"
             ],
             [
              0.2222222222222222,
              "#7201a8"
             ],
             [
              0.3333333333333333,
              "#9c179e"
             ],
             [
              0.4444444444444444,
              "#bd3786"
             ],
             [
              0.5555555555555556,
              "#d8576b"
             ],
             [
              0.6666666666666666,
              "#ed7953"
             ],
             [
              0.7777777777777778,
              "#fb9f3a"
             ],
             [
              0.8888888888888888,
              "#fdca26"
             ],
             [
              1,
              "#f0f921"
             ]
            ],
            "type": "heatmapgl"
           }
          ],
          "histogram": [
           {
            "marker": {
             "pattern": {
              "fillmode": "overlay",
              "size": 10,
              "solidity": 0.2
             }
            },
            "type": "histogram"
           }
          ],
          "histogram2d": [
           {
            "colorbar": {
             "outlinewidth": 0,
             "ticks": ""
            },
            "colorscale": [
             [
              0,
              "#0d0887"
             ],
             [
              0.1111111111111111,
              "#46039f"
             ],
             [
              0.2222222222222222,
              "#7201a8"
             ],
             [
              0.3333333333333333,
              "#9c179e"
             ],
             [
              0.4444444444444444,
              "#bd3786"
             ],
             [
              0.5555555555555556,
              "#d8576b"
             ],
             [
              0.6666666666666666,
              "#ed7953"
             ],
             [
              0.7777777777777778,
              "#fb9f3a"
             ],
             [
              0.8888888888888888,
              "#fdca26"
             ],
             [
              1,
              "#f0f921"
             ]
            ],
            "type": "histogram2d"
           }
          ],
          "histogram2dcontour": [
           {
            "colorbar": {
             "outlinewidth": 0,
             "ticks": ""
            },
            "colorscale": [
             [
              0,
              "#0d0887"
             ],
             [
              0.1111111111111111,
              "#46039f"
             ],
             [
              0.2222222222222222,
              "#7201a8"
             ],
             [
              0.3333333333333333,
              "#9c179e"
             ],
             [
              0.4444444444444444,
              "#bd3786"
             ],
             [
              0.5555555555555556,
              "#d8576b"
             ],
             [
              0.6666666666666666,
              "#ed7953"
             ],
             [
              0.7777777777777778,
              "#fb9f3a"
             ],
             [
              0.8888888888888888,
              "#fdca26"
             ],
             [
              1,
              "#f0f921"
             ]
            ],
            "type": "histogram2dcontour"
           }
          ],
          "mesh3d": [
           {
            "colorbar": {
             "outlinewidth": 0,
             "ticks": ""
            },
            "type": "mesh3d"
           }
          ],
          "parcoords": [
           {
            "line": {
             "colorbar": {
              "outlinewidth": 0,
              "ticks": ""
             }
            },
            "type": "parcoords"
           }
          ],
          "pie": [
           {
            "automargin": true,
            "type": "pie"
           }
          ],
          "scatter": [
           {
            "fillpattern": {
             "fillmode": "overlay",
             "size": 10,
             "solidity": 0.2
            },
            "type": "scatter"
           }
          ],
          "scatter3d": [
           {
            "line": {
             "colorbar": {
              "outlinewidth": 0,
              "ticks": ""
             }
            },
            "marker": {
             "colorbar": {
              "outlinewidth": 0,
              "ticks": ""
             }
            },
            "type": "scatter3d"
           }
          ],
          "scattercarpet": [
           {
            "marker": {
             "colorbar": {
              "outlinewidth": 0,
              "ticks": ""
             }
            },
            "type": "scattercarpet"
           }
          ],
          "scattergeo": [
           {
            "marker": {
             "colorbar": {
              "outlinewidth": 0,
              "ticks": ""
             }
            },
            "type": "scattergeo"
           }
          ],
          "scattergl": [
           {
            "marker": {
             "colorbar": {
              "outlinewidth": 0,
              "ticks": ""
             }
            },
            "type": "scattergl"
           }
          ],
          "scattermapbox": [
           {
            "marker": {
             "colorbar": {
              "outlinewidth": 0,
              "ticks": ""
             }
            },
            "type": "scattermapbox"
           }
          ],
          "scatterpolar": [
           {
            "marker": {
             "colorbar": {
              "outlinewidth": 0,
              "ticks": ""
             }
            },
            "type": "scatterpolar"
           }
          ],
          "scatterpolargl": [
           {
            "marker": {
             "colorbar": {
              "outlinewidth": 0,
              "ticks": ""
             }
            },
            "type": "scatterpolargl"
           }
          ],
          "scatterternary": [
           {
            "marker": {
             "colorbar": {
              "outlinewidth": 0,
              "ticks": ""
             }
            },
            "type": "scatterternary"
           }
          ],
          "surface": [
           {
            "colorbar": {
             "outlinewidth": 0,
             "ticks": ""
            },
            "colorscale": [
             [
              0,
              "#0d0887"
             ],
             [
              0.1111111111111111,
              "#46039f"
             ],
             [
              0.2222222222222222,
              "#7201a8"
             ],
             [
              0.3333333333333333,
              "#9c179e"
             ],
             [
              0.4444444444444444,
              "#bd3786"
             ],
             [
              0.5555555555555556,
              "#d8576b"
             ],
             [
              0.6666666666666666,
              "#ed7953"
             ],
             [
              0.7777777777777778,
              "#fb9f3a"
             ],
             [
              0.8888888888888888,
              "#fdca26"
             ],
             [
              1,
              "#f0f921"
             ]
            ],
            "type": "surface"
           }
          ],
          "table": [
           {
            "cells": {
             "fill": {
              "color": "#EBF0F8"
             },
             "line": {
              "color": "white"
             }
            },
            "header": {
             "fill": {
              "color": "#C8D4E3"
             },
             "line": {
              "color": "white"
             }
            },
            "type": "table"
           }
          ]
         },
         "layout": {
          "annotationdefaults": {
           "arrowcolor": "#2a3f5f",
           "arrowhead": 0,
           "arrowwidth": 1
          },
          "autotypenumbers": "strict",
          "coloraxis": {
           "colorbar": {
            "outlinewidth": 0,
            "ticks": ""
           }
          },
          "colorscale": {
           "diverging": [
            [
             0,
             "#8e0152"
            ],
            [
             0.1,
             "#c51b7d"
            ],
            [
             0.2,
             "#de77ae"
            ],
            [
             0.3,
             "#f1b6da"
            ],
            [
             0.4,
             "#fde0ef"
            ],
            [
             0.5,
             "#f7f7f7"
            ],
            [
             0.6,
             "#e6f5d0"
            ],
            [
             0.7,
             "#b8e186"
            ],
            [
             0.8,
             "#7fbc41"
            ],
            [
             0.9,
             "#4d9221"
            ],
            [
             1,
             "#276419"
            ]
           ],
           "sequential": [
            [
             0,
             "#0d0887"
            ],
            [
             0.1111111111111111,
             "#46039f"
            ],
            [
             0.2222222222222222,
             "#7201a8"
            ],
            [
             0.3333333333333333,
             "#9c179e"
            ],
            [
             0.4444444444444444,
             "#bd3786"
            ],
            [
             0.5555555555555556,
             "#d8576b"
            ],
            [
             0.6666666666666666,
             "#ed7953"
            ],
            [
             0.7777777777777778,
             "#fb9f3a"
            ],
            [
             0.8888888888888888,
             "#fdca26"
            ],
            [
             1,
             "#f0f921"
            ]
           ],
           "sequentialminus": [
            [
             0,
             "#0d0887"
            ],
            [
             0.1111111111111111,
             "#46039f"
            ],
            [
             0.2222222222222222,
             "#7201a8"
            ],
            [
             0.3333333333333333,
             "#9c179e"
            ],
            [
             0.4444444444444444,
             "#bd3786"
            ],
            [
             0.5555555555555556,
             "#d8576b"
            ],
            [
             0.6666666666666666,
             "#ed7953"
            ],
            [
             0.7777777777777778,
             "#fb9f3a"
            ],
            [
             0.8888888888888888,
             "#fdca26"
            ],
            [
             1,
             "#f0f921"
            ]
           ]
          },
          "colorway": [
           "#636efa",
           "#EF553B",
           "#00cc96",
           "#ab63fa",
           "#FFA15A",
           "#19d3f3",
           "#FF6692",
           "#B6E880",
           "#FF97FF",
           "#FECB52"
          ],
          "font": {
           "color": "#2a3f5f"
          },
          "geo": {
           "bgcolor": "white",
           "lakecolor": "white",
           "landcolor": "#E5ECF6",
           "showlakes": true,
           "showland": true,
           "subunitcolor": "white"
          },
          "hoverlabel": {
           "align": "left"
          },
          "hovermode": "closest",
          "mapbox": {
           "style": "light"
          },
          "paper_bgcolor": "white",
          "plot_bgcolor": "#E5ECF6",
          "polar": {
           "angularaxis": {
            "gridcolor": "white",
            "linecolor": "white",
            "ticks": ""
           },
           "bgcolor": "#E5ECF6",
           "radialaxis": {
            "gridcolor": "white",
            "linecolor": "white",
            "ticks": ""
           }
          },
          "scene": {
           "xaxis": {
            "backgroundcolor": "#E5ECF6",
            "gridcolor": "white",
            "gridwidth": 2,
            "linecolor": "white",
            "showbackground": true,
            "ticks": "",
            "zerolinecolor": "white"
           },
           "yaxis": {
            "backgroundcolor": "#E5ECF6",
            "gridcolor": "white",
            "gridwidth": 2,
            "linecolor": "white",
            "showbackground": true,
            "ticks": "",
            "zerolinecolor": "white"
           },
           "zaxis": {
            "backgroundcolor": "#E5ECF6",
            "gridcolor": "white",
            "gridwidth": 2,
            "linecolor": "white",
            "showbackground": true,
            "ticks": "",
            "zerolinecolor": "white"
           }
          },
          "shapedefaults": {
           "line": {
            "color": "#2a3f5f"
           }
          },
          "ternary": {
           "aaxis": {
            "gridcolor": "white",
            "linecolor": "white",
            "ticks": ""
           },
           "baxis": {
            "gridcolor": "white",
            "linecolor": "white",
            "ticks": ""
           },
           "bgcolor": "#E5ECF6",
           "caxis": {
            "gridcolor": "white",
            "linecolor": "white",
            "ticks": ""
           }
          },
          "title": {
           "x": 0.05
          },
          "xaxis": {
           "automargin": true,
           "gridcolor": "white",
           "linecolor": "white",
           "ticks": "",
           "title": {
            "standoff": 15
           },
           "zerolinecolor": "white",
           "zerolinewidth": 2
          },
          "yaxis": {
           "automargin": true,
           "gridcolor": "white",
           "linecolor": "white",
           "ticks": "",
           "title": {
            "standoff": 15
           },
           "zerolinecolor": "white",
           "zerolinewidth": 2
          }
         }
        },
        "xaxis": {
         "anchor": "y",
         "autorange": true,
         "domain": [
          0,
          1
         ],
         "range": [
          -0.5,
          5.5
         ],
         "title": {
          "text": "salary"
         },
         "type": "category"
        },
        "yaxis": {
         "anchor": "x",
         "autorange": true,
         "domain": [
          0,
          1
         ],
         "range": [
          -41.55555555555556,
          789.5555555555555
         ],
         "title": {
          "text": "sector"
         },
         "type": "category"
        }
       }
      },
      "image/png": "[encoded data removed]",
      "text/html": [
       "<div>                            <div id=\"12610769-5a7f-4215-90b8-3781adb7cb9c\" class=\"plotly-graph-div\" style=\"height:525px; width:100%;\"></div>            <script type=\"text/javascript\">                require([\"plotly\"], function(Plotly) {                    window.PLOTLYENV=window.PLOTLYENV || {};                                    if (document.getElementById(\"12610769-5a7f-4215-90b8-3781adb7cb9c\")) {                    Plotly.newPlot(                        \"12610769-5a7f-4215-90b8-3781adb7cb9c\",                        [{\"alignmentgroup\":\"True\",\"hovertemplate\":\"personality_trait=Conscientiousness\\u003cbr\\u003esalary=%{x}\\u003cbr\\u003esector=%{y}\\u003cextra\\u003e\\u003c\\u002fextra\\u003e\",\"legendgroup\":\"Conscientiousness\",\"marker\":{\"color\":\"#636efa\",\"pattern\":{\"shape\":\"\"}},\"name\":\"Conscientiousness\",\"offsetgroup\":\"Conscientiousness\",\"orientation\":\"v\",\"showlegend\":true,\"textposition\":\"auto\",\"x\":[\"\\u003e$500k\",\"\\u003c$50k\",\"$250-500k\",\"$50-100k\",\"\\u003c$50k\",\"\\u003c$50k\",\"$250-500k\",\"\\u003c$50k\",\"$100-150k\",\"$100-150k\",\"$100-150k\",\"$150-250k\",\"$250-500k\",\"$250-500k\",\"$100-150k\",\"$100-150k\",\"\\u003c$50k\",\"\\u003e$500k\",\"\\u003e$500k\",\"$100-150k\",\"$100-150k\",\"\\u003c$50k\",\"$50-100k\",\"$100-150k\",\"\\u003c$50k\",\"\\u003e$500k\",\"$50-100k\",\"$50-100k\",\"$250-500k\",\"$50-100k\",\"$250-500k\",\"$250-500k\",\"\\u003e$500k\",\"$50-100k\",\"\\u003e$500k\",\"$100-150k\",\"\\u003c$50k\",\"$250-500k\",\"\\u003e$500k\",\"$50-100k\",\"$50-100k\",\"\\u003e$500k\",\"$250-500k\",\"$250-500k\",\"$250-500k\",\"\\u003e$500k\",\"$100-150k\",\"$250-500k\",\"\\u003e$500k\",\"\\u003c$50k\",\"$100-150k\",\"\\u003c$50k\",\"$50-100k\",\"$250-500k\",\"\\u003e$500k\",\"\\u003e$500k\",\"$250-500k\",\"$250-500k\",\"$250-500k\",\"$250-500k\",\"\\u003e$500k\",\"$150-250k\",\"$150-250k\",\"\\u003e$500k\",\"$150-250k\",\"$50-100k\",\"$250-500k\",\"$250-500k\",\"$250-500k\",\"$100-150k\",\"$50-100k\",\"$100-150k\",\"\\u003e$500k\",\"$100-150k\",\"$50-100k\",\"\\u003c$50k\",\"$50-100k\",\"\\u003e$500k\",\"$150-250k\",\"\\u003c$50k\",\"$250-500k\",\"$50-100k\",\"$50-100k\",\"\\u003e$500k\",\"\\u003e$500k\",\"$50-100k\",\"\\u003c$50k\",\"$250-500k\",\"$50-100k\",\"\\u003c$50k\",\"$150-250k\",\"$100-150k\",\"\\u003c$50k\",\"\\u003e$500k\",\"\\u003c$50k\",\"$100-150k\",\"$50-100k\",\"$250-500k\",\"\\u003c$50k\",\"\\u003e$500k\",\"$100-150k\",\"$50-100k\",\"$250-500k\",\"\\u003e$500k\",\"$250-500k\",\"$250-500k\",\"$250-500k\",\"$50-100k\",\"$250-500k\",\"\\u003e$500k\",\"$150-250k\",\"\\u003e$500k\",\"$150-250k\",\"$250-500k\",\"$250-500k\",\"$250-500k\",\"$100-150k\",\"$100-150k\",\"$50-100k\",\"$150-250k\",\"$100-150k\",\"$50-100k\",\"$50-100k\",\"$100-150k\",\"$250-500k\",\"$250-500k\",\"$100-150k\",\"$50-100k\",\"$250-500k\",\"$50-100k\",\"$150-250k\",\"\\u003c$50k\",\"$100-150k\",\"$150-250k\",\"$100-150k\",\"$100-150k\",\"\\u003e$500k\",\"\\u003e$500k\",\"$150-250k\",\"$100-150k\",\"$250-500k\",\"$100-150k\",\"$50-100k\",\"\\u003e$500k\",\"$150-250k\",\"$150-250k\",\"$250-500k\",\"$50-100k\",\"$150-250k\",\"$100-150k\",\"\\u003e$500k\",\"$250-500k\",\"$150-250k\",\"$250-500k\",\"$100-150k\",\"$50-100k\",\"$150-250k\",\"$50-100k\",\"\\u003e$500k\",\"$50-100k\",\"$50-100k\",\"\\u003e$500k\",\"$50-100k\",\"$150-250k\",\"$50-100k\",\"\\u003e$500k\",\"\\u003e$500k\",\"\\u003c$50k\",\"$100-150k\",\"$50-100k\",\"$250-500k\",\"$100-150k\",\"\\u003c$50k\",\"\\u003e$500k\",\"$250-500k\",\"$100-150k\",\"$50-100k\",\"$100-150k\",\"$100-150k\",\"$250-500k\",\"\\u003c$50k\",\"$150-250k\",\"$50-100k\",\"\\u003e$500k\",\"\\u003e$500k\",\"\\u003e$500k\",\"$150-250k\",\"\\u003e$500k\",\"$100-150k\",\"$250-500k\",\"\\u003c$50k\",\"$100-150k\",\"$250-500k\",\"$150-250k\",\"\\u003c$50k\",\"$100-150k\",\"$250-500k\",\"$50-100k\",\"\\u003e$500k\",\"$250-500k\",\"\\u003e$500k\"],\"xaxis\":\"x\",\"y\":[\"Finance\",\"Government\",\"Technology\",\"Healthcare\",\"Hospitality\",\"Retail\",\"Healthcare\",\"Marketing\",\"Entertainment\",\"Technology\",\"Government\",\"Finance\",\"Entertainment\",\"Retail\",\"Marketing\",\"Education\",\"Education\",\"Technology\",\"Retail\",\"Finance\",\"Retail\",\"Government\",\"Education\",\"Government\",\"Healthcare\",\"Entertainment\",\"Technology\",\"Technology\",\"Retail\",\"Hospitality\",\"Government\",\"Finance\",\"Technology\",\"Healthcare\",\"Entertainment\",\"Education\",\"Hospitality\",\"Finance\",\"Retail\",\"Marketing\",\"Education\",\"Retail\",\"Retail\",\"Education\",\"Government\",\"Marketing\",\"Hospitality\",\"Entertainment\",\"Retail\",\"Healthcare\",\"Marketing\",\"Healthcare\",\"Education\",\"Government\",\"Finance\",\"Finance\",\"Healthcare\",\"Government\",\"Technology\",\"Technology\",\"Education\",\"Technology\",\"Marketing\",\"Technology\",\"Marketing\",\"Government\",\"Retail\",\"Education\",\"Healthcare\",\"Education\",\"Entertainment\",\"Government\",\"Education\",\"Healthcare\",\"Marketing\",\"Retail\",\"Government\",\"Technology\",\"Retail\",\"Technology\",\"Marketing\",\"Healthcare\",\"Hospitality\",\"Retail\",\"Technology\",\"Retail\",\"Hospitality\",\"Retail\",\"Education\",\"Hospitality\",\"Hospitality\",\"Hospitality\",\"Healthcare\",\"Entertainment\",\"Government\",\"Retail\",\"Marketing\",\"Technology\",\"Healthcare\",\"Healthcare\",\"Healthcare\",\"Healthcare\",\"Government\",\"Technology\",\"Hospitality\",\"Healthcare\",\"Technology\",\"Marketing\",\"Marketing\",\"Marketing\",\"Technology\",\"Entertainment\",\"Technology\",\"Technology\",\"Finance\",\"Marketing\",\"Retail\",\"Retail\",\"Entertainment\",\"Education\",\"Marketing\",\"Retail\",\"Marketing\",\"Hospitality\",\"Technology\",\"Hospitality\",\"Retail\",\"Healthcare\",\"Technology\",\"Finance\",\"Healthcare\",\"Retail\",\"Technology\",\"Finance\",\"Retail\",\"Retail\",\"Government\",\"Technology\",\"Finance\",\"Technology\",\"Government\",\"Education\",\"Finance\",\"Technology\",\"Entertainment\",\"Finance\",\"Healthcare\",\"Technology\",\"Education\",\"Government\",\"Healthcare\",\"Hospitality\",\"Hospitality\",\"Government\",\"Finance\",\"Entertainment\",\"Marketing\",\"Technology\",\"Retail\",\"Hospitality\",\"Healthcare\",\"Entertainment\",\"Finance\",\"Government\",\"Finance\",\"Healthcare\",\"Technology\",\"Education\",\"Government\",\"Healthcare\",\"Finance\",\"Education\",\"Entertainment\",\"Finance\",\"Hospitality\",\"Entertainment\",\"Government\",\"Education\",\"Finance\",\"Finance\",\"Education\",\"Entertainment\",\"Education\",\"Entertainment\",\"Healthcare\",\"Marketing\",\"Education\",\"Healthcare\",\"Education\",\"Finance\",\"Healthcare\",\"Technology\",\"Finance\",\"Government\",\"Government\",\"Government\",\"Entertainment\",\"Marketing\",\"Government\",\"Entertainment\",\"Healthcare\"],\"yaxis\":\"y\",\"type\":\"bar\"},{\"alignmentgroup\":\"True\",\"hovertemplate\":\"personality_trait=Extraversion\\u003cbr\\u003esalary=%{x}\\u003cbr\\u003esector=%{y}\\u003cextra\\u003e\\u003c\\u002fextra\\u003e\",\"legendgroup\":\"Extraversion\",\"marker\":{\"color\":\"#EF553B\",\"pattern\":{\"shape\":\"\"}},\"name\":\"Extraversion\",\"offsetgroup\":\"Extraversion\",\"orientation\":\"v\",\"showlegend\":true,\"textposition\":\"auto\",\"x\":[\"\\u003c$50k\",\"$150-250k\",\"$50-100k\",\"$150-250k\",\"$100-150k\",\"$150-250k\",\"\\u003e$500k\",\"$250-500k\",\"\\u003c$50k\",\"\\u003c$50k\",\"$100-150k\",\"$250-500k\",\"$50-100k\",\"\\u003c$50k\",\"$250-500k\",\"\\u003e$500k\",\"$250-500k\",\"$50-100k\",\"\\u003c$50k\",\"\\u003e$500k\",\"\\u003e$500k\",\"$50-100k\",\"$50-100k\",\"\\u003e$500k\",\"$50-100k\",\"$100-150k\",\"$150-250k\",\"\\u003c$50k\",\"$250-500k\",\"$50-100k\",\"\\u003e$500k\",\"\\u003e$500k\",\"$150-250k\",\"$250-500k\",\"$50-100k\",\"$100-150k\",\"$150-250k\",\"\\u003e$500k\",\"\\u003c$50k\",\"$150-250k\",\"$50-100k\",\"\\u003e$500k\",\"$50-100k\",\"$50-100k\",\"$100-150k\",\"$250-500k\",\"$250-500k\",\"$50-100k\",\"$100-150k\",\"$250-500k\",\"$250-500k\",\"$150-250k\",\"\\u003e$500k\",\"$100-150k\",\"\\u003e$500k\",\"\\u003c$50k\",\"$150-250k\",\"$100-150k\",\"\\u003e$500k\",\"$100-150k\",\"$50-100k\",\"$100-150k\",\"$150-250k\",\"\\u003c$50k\",\"$100-150k\",\"$250-500k\",\"$100-150k\",\"\\u003e$500k\",\"$250-500k\",\"$50-100k\",\"$50-100k\",\"$100-150k\",\"$100-150k\",\"$250-500k\",\"$150-250k\",\"$50-100k\",\"\\u003e$500k\",\"$250-500k\",\"\\u003e$500k\",\"$250-500k\",\"\\u003e$500k\",\"\\u003e$500k\",\"\\u003c$50k\",\"$150-250k\",\"\\u003e$500k\",\"\\u003c$50k\",\"$50-100k\",\"\\u003e$500k\",\"\\u003c$50k\",\"$100-150k\",\"$50-100k\",\"$100-150k\",\"$250-500k\",\"$250-500k\",\"$150-250k\",\"$100-150k\",\"$150-250k\",\"$250-500k\",\"$250-500k\",\"$50-100k\",\"\\u003e$500k\",\"$100-150k\",\"$150-250k\",\"$50-100k\",\"$50-100k\",\"$100-150k\",\"$250-500k\",\"\\u003e$500k\",\"$100-150k\",\"$250-500k\",\"$50-100k\",\"$100-150k\",\"\\u003e$500k\",\"\\u003c$50k\",\"$150-250k\",\"$150-250k\",\"$100-150k\",\"$50-100k\",\"\\u003c$50k\",\"\\u003c$50k\",\"\\u003e$500k\",\"$150-250k\",\"$150-250k\",\"$50-100k\",\"\\u003e$500k\",\"\\u003c$50k\",\"$250-500k\",\"\\u003c$50k\",\"$250-500k\",\"$150-250k\",\"$50-100k\",\"$100-150k\",\"$150-250k\",\"$100-150k\",\"$100-150k\",\"\\u003e$500k\",\"\\u003e$500k\",\"$150-250k\",\"$100-150k\",\"\\u003e$500k\",\"\\u003c$50k\",\"\\u003e$500k\",\"$150-250k\",\"\\u003c$50k\",\"$250-500k\",\"$150-250k\",\"$150-250k\",\"$100-150k\",\"$250-500k\",\"\\u003c$50k\",\"$150-250k\",\"$250-500k\",\"$250-500k\",\"$50-100k\",\"$50-100k\",\"$50-100k\",\"\\u003e$500k\",\"$100-150k\",\"\\u003c$50k\",\"$250-500k\",\"$50-100k\",\"\\u003e$500k\",\"\\u003c$50k\",\"$50-100k\",\"\\u003e$500k\",\"$50-100k\",\"\\u003e$500k\",\"$100-150k\",\"$150-250k\",\"\\u003c$50k\",\"$250-500k\",\"$250-500k\",\"$50-100k\",\"$250-500k\",\"$150-250k\",\"\\u003c$50k\",\"$150-250k\",\"$150-250k\",\"$250-500k\",\"$50-100k\",\"$150-250k\",\"$50-100k\",\"\\u003e$500k\",\"$150-250k\",\"$150-250k\",\"$50-100k\",\"\\u003e$500k\",\"$50-100k\",\"$50-100k\",\"\\u003c$50k\",\"$150-250k\",\"$50-100k\",\"\\u003e$500k\",\"$50-100k\",\"$100-150k\",\"$250-500k\",\"$250-500k\",\"\\u003c$50k\",\"$250-500k\",\"\\u003e$500k\",\"\\u003c$50k\",\"\\u003c$50k\",\"$100-150k\",\"$100-150k\",\"\\u003c$50k\"],\"xaxis\":\"x\",\"y\":[\"Technology\",\"Finance\",\"Retail\",\"Marketing\",\"Education\",\"Retail\",\"Retail\",\"Finance\",\"Education\",\"Finance\",\"Entertainment\",\"Education\",\"Healthcare\",\"Government\",\"Technology\",\"Technology\",\"Marketing\",\"Entertainment\",\"Hospitality\",\"Entertainment\",\"Hospitality\",\"Healthcare\",\"Retail\",\"Government\",\"Marketing\",\"Finance\",\"Entertainment\",\"Finance\",\"Hospitality\",\"Technology\",\"Technology\",\"Finance\",\"Entertainment\",\"Government\",\"Entertainment\",\"Finance\",\"Technology\",\"Entertainment\",\"Government\",\"Hospitality\",\"Entertainment\",\"Entertainment\",\"Hospitality\",\"Technology\",\"Healthcare\",\"Hospitality\",\"Marketing\",\"Entertainment\",\"Finance\",\"Healthcare\",\"Education\",\"Government\",\"Technology\",\"Government\",\"Technology\",\"Government\",\"Marketing\",\"Hospitality\",\"Marketing\",\"Education\",\"Marketing\",\"Entertainment\",\"Healthcare\",\"Government\",\"Finance\",\"Finance\",\"Retail\",\"Finance\",\"Education\",\"Healthcare\",\"Marketing\",\"Education\",\"Hospitality\",\"Education\",\"Entertainment\",\"Education\",\"Marketing\",\"Finance\",\"Education\",\"Finance\",\"Retail\",\"Technology\",\"Finance\",\"Technology\",\"Hospitality\",\"Government\",\"Government\",\"Entertainment\",\"Hospitality\",\"Healthcare\",\"Hospitality\",\"Healthcare\",\"Marketing\",\"Marketing\",\"Finance\",\"Finance\",\"Hospitality\",\"Technology\",\"Retail\",\"Education\",\"Education\",\"Healthcare\",\"Hospitality\",\"Technology\",\"Retail\",\"Hospitality\",\"Retail\",\"Retail\",\"Technology\",\"Healthcare\",\"Retail\",\"Education\",\"Retail\",\"Education\",\"Hospitality\",\"Marketing\",\"Entertainment\",\"Finance\",\"Retail\",\"Marketing\",\"Marketing\",\"Marketing\",\"Retail\",\"Marketing\",\"Healthcare\",\"Finance\",\"Government\",\"Healthcare\",\"Education\",\"Technology\",\"Finance\",\"Hospitality\",\"Entertainment\",\"Education\",\"Healthcare\",\"Entertainment\",\"Healthcare\",\"Technology\",\"Retail\",\"Technology\",\"Retail\",\"Finance\",\"Technology\",\"Education\",\"Finance\",\"Retail\",\"Healthcare\",\"Technology\",\"Government\",\"Entertainment\",\"Government\",\"Marketing\",\"Hospitality\",\"Entertainment\",\"Hospitality\",\"Education\",\"Entertainment\",\"Retail\",\"Technology\",\"Healthcare\",\"Government\",\"Hospitality\",\"Government\",\"Technology\",\"Education\",\"Government\",\"Technology\",\"Technology\",\"Government\",\"Entertainment\",\"Healthcare\",\"Healthcare\",\"Finance\",\"Technology\",\"Government\",\"Entertainment\",\"Technology\",\"Government\",\"Finance\",\"Retail\",\"Entertainment\",\"Healthcare\",\"Hospitality\",\"Retail\",\"Retail\",\"Hospitality\",\"Technology\",\"Technology\",\"Technology\",\"Hospitality\",\"Entertainment\",\"Technology\",\"Technology\",\"Finance\",\"Education\",\"Retail\",\"Entertainment\",\"Government\",\"Retail\",\"Education\",\"Finance\",\"Hospitality\",\"Government\",\"Finance\",\"Marketing\"],\"yaxis\":\"y\",\"type\":\"bar\"},{\"alignmentgroup\":\"True\",\"hovertemplate\":\"personality_trait=Agreeableness\\u003cbr\\u003esalary=%{x}\\u003cbr\\u003esector=%{y}\\u003cextra\\u003e\\u003c\\u002fextra\\u003e\",\"legendgroup\":\"Agreeableness\",\"marker\":{\"color\":\"#00cc96\",\"pattern\":{\"shape\":\"\"}},\"name\":\"Agreeableness\",\"offsetgroup\":\"Agreeableness\",\"orientation\":\"v\",\"showlegend\":true,\"textposition\":\"auto\",\"x\":[\"$250-500k\",\"$250-500k\",\"$100-150k\",\"$150-250k\",\"\\u003e$500k\",\"$150-250k\",\"$150-250k\",\"$150-250k\",\"\\u003c$50k\",\"$150-250k\",\"$150-250k\",\"\\u003e$500k\",\"$50-100k\",\"$150-250k\",\"$250-500k\",\"$100-150k\",\"\\u003c$50k\",\"$250-500k\",\"$50-100k\",\"\\u003c$50k\",\"$250-500k\",\"\\u003c$50k\",\"\\u003c$50k\",\"$250-500k\",\"\\u003c$50k\",\"$150-250k\",\"$100-150k\",\"$150-250k\",\"\\u003c$50k\",\"\\u003c$50k\",\"$100-150k\",\"\\u003c$50k\",\"\\u003c$50k\",\"$250-500k\",\"$100-150k\",\"\\u003c$50k\",\"$150-250k\",\"\\u003e$500k\",\"\\u003e$500k\",\"$50-100k\",\"$250-500k\",\"$100-150k\",\"$250-500k\",\"$250-500k\",\"$100-150k\",\"\\u003c$50k\",\"\\u003e$500k\",\"$100-150k\",\"\\u003e$500k\",\"$150-250k\",\"$100-150k\",\"\\u003c$50k\",\"$250-500k\",\"$100-150k\",\"\\u003c$50k\",\"$150-250k\",\"\\u003e$500k\",\"$150-250k\",\"$100-150k\",\"\\u003c$50k\",\"$100-150k\",\"$50-100k\",\"\\u003c$50k\",\"\\u003c$50k\",\"\\u003e$500k\",\"\\u003e$500k\",\"\\u003e$500k\",\"\\u003c$50k\",\"\\u003e$500k\",\"$100-150k\",\"$150-250k\",\"\\u003e$500k\",\"$100-150k\",\"$100-150k\",\"\\u003e$500k\",\"\\u003e$500k\",\"$250-500k\",\"$50-100k\",\"$100-150k\",\"$50-100k\",\"$250-500k\",\"$100-150k\",\"$150-250k\",\"$250-500k\",\"$150-250k\",\"$250-500k\",\"\\u003c$50k\",\"$150-250k\",\"$50-100k\",\"$250-500k\",\"\\u003c$50k\",\"\\u003e$500k\",\"$100-150k\",\"$150-250k\",\"$100-150k\",\"$100-150k\",\"$150-250k\",\"$150-250k\",\"$50-100k\",\"$50-100k\",\"$50-100k\",\"\\u003e$500k\",\"$100-150k\",\"$100-150k\",\"$100-150k\",\"$50-100k\",\"$150-250k\",\"$100-150k\",\"\\u003e$500k\",\"\\u003c$50k\",\"$150-250k\",\"$100-150k\",\"$100-150k\",\"$150-250k\",\"$250-500k\",\"$50-100k\",\"\\u003c$50k\",\"$250-500k\",\"$150-250k\",\"$150-250k\",\"$250-500k\",\"$150-250k\",\"$100-150k\",\"$100-150k\",\"$100-150k\",\"$250-500k\",\"\\u003e$500k\",\"\\u003e$500k\",\"$100-150k\",\"$250-500k\",\"$250-500k\",\"$150-250k\",\"\\u003e$500k\",\"$250-500k\",\"$150-250k\",\"\\u003e$500k\",\"\\u003c$50k\",\"\\u003e$500k\",\"$250-500k\",\"$250-500k\",\"$50-100k\",\"\\u003e$500k\",\"$250-500k\",\"$50-100k\",\"$250-500k\",\"\\u003e$500k\",\"$250-500k\",\"\\u003c$50k\",\"$50-100k\",\"$50-100k\",\"$150-250k\",\"$100-150k\",\"$100-150k\",\"$50-100k\",\"\\u003e$500k\",\"$100-150k\",\"$50-100k\",\"\\u003c$50k\",\"$100-150k\",\"$100-150k\",\"$250-500k\",\"\\u003c$50k\",\"$250-500k\",\"$250-500k\",\"$50-100k\",\"$100-150k\",\"\\u003c$50k\",\"\\u003e$500k\",\"$50-100k\",\"\\u003e$500k\",\"$150-250k\",\"$250-500k\",\"$150-250k\",\"$250-500k\",\"$250-500k\",\"$100-150k\",\"$250-500k\",\"$150-250k\",\"\\u003e$500k\",\"$150-250k\",\"$50-100k\",\"\\u003e$500k\",\"\\u003e$500k\",\"$150-250k\",\"$50-100k\",\"\\u003c$50k\",\"\\u003e$500k\",\"$100-150k\",\"$250-500k\",\"\\u003c$50k\",\"\\u003c$50k\",\"$50-100k\",\"$100-150k\",\"$150-250k\",\"\\u003e$500k\",\"$100-150k\",\"$250-500k\",\"\\u003c$50k\",\"\\u003c$50k\",\"$100-150k\"],\"xaxis\":\"x\",\"y\":[\"Marketing\",\"Education\",\"Healthcare\",\"Technology\",\"Technology\",\"Education\",\"Retail\",\"Healthcare\",\"Education\",\"Education\",\"Hospitality\",\"Education\",\"Entertainment\",\"Entertainment\",\"Retail\",\"Entertainment\",\"Government\",\"Hospitality\",\"Marketing\",\"Finance\",\"Entertainment\",\"Education\",\"Education\",\"Hospitality\",\"Healthcare\",\"Finance\",\"Government\",\"Finance\",\"Finance\",\"Entertainment\",\"Healthcare\",\"Healthcare\",\"Healthcare\",\"Education\",\"Entertainment\",\"Education\",\"Retail\",\"Education\",\"Finance\",\"Government\",\"Education\",\"Finance\",\"Healthcare\",\"Retail\",\"Finance\",\"Marketing\",\"Entertainment\",\"Government\",\"Technology\",\"Healthcare\",\"Healthcare\",\"Hospitality\",\"Entertainment\",\"Healthcare\",\"Technology\",\"Marketing\",\"Education\",\"Technology\",\"Entertainment\",\"Education\",\"Government\",\"Marketing\",\"Education\",\"Entertainment\",\"Education\",\"Retail\",\"Finance\",\"Hospitality\",\"Entertainment\",\"Education\",\"Marketing\",\"Retail\",\"Technology\",\"Entertainment\",\"Hospitality\",\"Hospitality\",\"Education\",\"Marketing\",\"Entertainment\",\"Marketing\",\"Education\",\"Hospitality\",\"Finance\",\"Finance\",\"Healthcare\",\"Education\",\"Education\",\"Marketing\",\"Finance\",\"Hospitality\",\"Entertainment\",\"Marketing\",\"Government\",\"Education\",\"Marketing\",\"Hospitality\",\"Healthcare\",\"Education\",\"Retail\",\"Healthcare\",\"Marketing\",\"Finance\",\"Education\",\"Healthcare\",\"Government\",\"Healthcare\",\"Education\",\"Retail\",\"Healthcare\",\"Technology\",\"Retail\",\"Entertainment\",\"Entertainment\",\"Entertainment\",\"Healthcare\",\"Education\",\"Technology\",\"Technology\",\"Government\",\"Technology\",\"Hospitality\",\"Technology\",\"Technology\",\"Finance\",\"Healthcare\",\"Technology\",\"Technology\",\"Entertainment\",\"Healthcare\",\"Marketing\",\"Entertainment\",\"Retail\",\"Marketing\",\"Technology\",\"Marketing\",\"Hospitality\",\"Healthcare\",\"Finance\",\"Government\",\"Hospitality\",\"Technology\",\"Marketing\",\"Education\",\"Retail\",\"Entertainment\",\"Finance\",\"Technology\",\"Education\",\"Entertainment\",\"Retail\",\"Healthcare\",\"Entertainment\",\"Healthcare\",\"Technology\",\"Hospitality\",\"Marketing\",\"Education\",\"Healthcare\",\"Education\",\"Retail\",\"Education\",\"Government\",\"Technology\",\"Retail\",\"Technology\",\"Healthcare\",\"Education\",\"Technology\",\"Marketing\",\"Marketing\",\"Retail\",\"Hospitality\",\"Hospitality\",\"Retail\",\"Technology\",\"Finance\",\"Government\",\"Entertainment\",\"Healthcare\",\"Education\",\"Education\",\"Finance\",\"Education\",\"Entertainment\",\"Technology\",\"Marketing\",\"Finance\",\"Healthcare\",\"Technology\",\"Hospitality\",\"Government\",\"Education\",\"Marketing\",\"Hospitality\",\"Technology\",\"Healthcare\",\"Marketing\",\"Retail\",\"Government\",\"Education\"],\"yaxis\":\"y\",\"type\":\"bar\"},{\"alignmentgroup\":\"True\",\"hovertemplate\":\"personality_trait=Neuroticism\\u003cbr\\u003esalary=%{x}\\u003cbr\\u003esector=%{y}\\u003cextra\\u003e\\u003c\\u002fextra\\u003e\",\"legendgroup\":\"Neuroticism\",\"marker\":{\"color\":\"#ab63fa\",\"pattern\":{\"shape\":\"\"}},\"name\":\"Neuroticism\",\"offsetgroup\":\"Neuroticism\",\"orientation\":\"v\",\"showlegend\":true,\"textposition\":\"auto\",\"x\":[\"$250-500k\",\"$250-500k\",\"$50-100k\",\"\\u003e$500k\",\"\\u003e$500k\",\"\\u003c$50k\",\"\\u003c$50k\",\"$250-500k\",\"$100-150k\",\"\\u003e$500k\",\"$250-500k\",\"\\u003e$500k\",\"$250-500k\",\"$250-500k\",\"\\u003e$500k\",\"$100-150k\",\"\\u003c$50k\",\"$50-100k\",\"$50-100k\",\"\\u003e$500k\",\"$150-250k\",\"$250-500k\",\"\\u003e$500k\",\"\\u003e$500k\",\"$50-100k\",\"$150-250k\",\"$250-500k\",\"$100-150k\",\"$50-100k\",\"$150-250k\",\"$100-150k\",\"\\u003c$50k\",\"$150-250k\",\"$50-100k\",\"$250-500k\",\"$50-100k\",\"$150-250k\",\"$150-250k\",\"\\u003c$50k\",\"$100-150k\",\"\\u003e$500k\",\"$100-150k\",\"\\u003c$50k\",\"$150-250k\",\"$100-150k\",\"$250-500k\",\"$50-100k\",\"$50-100k\",\"$100-150k\",\"\\u003e$500k\",\"$150-250k\",\"$50-100k\",\"\\u003e$500k\",\"$150-250k\",\"$150-250k\",\"$250-500k\",\"$50-100k\",\"\\u003e$500k\",\"\\u003c$50k\",\"$250-500k\",\"$100-150k\",\"\\u003e$500k\",\"$100-150k\",\"$150-250k\",\"\\u003e$500k\",\"$50-100k\",\"$50-100k\",\"$150-250k\",\"$250-500k\",\"\\u003c$50k\",\"$250-500k\",\"$150-250k\",\"$150-250k\",\"$100-150k\",\"$250-500k\",\"$100-150k\",\"$250-500k\",\"\\u003c$50k\",\"$50-100k\",\"$50-100k\",\"\\u003c$50k\",\"\\u003c$50k\",\"$50-100k\",\"$150-250k\",\"$250-500k\",\"$250-500k\",\"$100-150k\",\"$150-250k\",\"$250-500k\",\"$100-150k\",\"$250-500k\",\"\\u003c$50k\",\"$150-250k\",\"$250-500k\",\"\\u003c$50k\",\"\\u003c$50k\",\"$150-250k\",\"$250-500k\",\"$100-150k\",\"$50-100k\",\"$250-500k\",\"$150-250k\",\"$50-100k\",\"$100-150k\",\"$100-150k\",\"$50-100k\",\"$50-100k\",\"$50-100k\",\"$150-250k\",\"$250-500k\",\"$50-100k\",\"$150-250k\",\"$150-250k\",\"$250-500k\",\"$50-100k\",\"$100-150k\",\"\\u003c$50k\",\"$100-150k\",\"\\u003c$50k\",\"$250-500k\",\"$50-100k\",\"$50-100k\",\"$50-100k\",\"$250-500k\",\"\\u003c$50k\",\"\\u003e$500k\",\"$150-250k\",\"\\u003e$500k\",\"$150-250k\",\"$150-250k\",\"\\u003c$50k\",\"$100-150k\",\"$150-250k\",\"$50-100k\",\"$250-500k\",\"\\u003e$500k\",\"$50-100k\",\"$150-250k\",\"$150-250k\",\"$250-500k\",\"$250-500k\",\"$50-100k\",\"$250-500k\",\"$250-500k\",\"\\u003c$50k\",\"$100-150k\",\"$250-500k\",\"$250-500k\",\"$100-150k\",\"$250-500k\",\"$150-250k\",\"\\u003c$50k\",\"\\u003e$500k\",\"\\u003c$50k\",\"\\u003e$500k\",\"$150-250k\",\"$100-150k\",\"\\u003c$50k\",\"$250-500k\",\"$150-250k\",\"\\u003c$50k\",\"\\u003c$50k\",\"$100-150k\",\"\\u003c$50k\",\"$50-100k\",\"$150-250k\",\"\\u003e$500k\",\"\\u003c$50k\",\"$250-500k\",\"\\u003c$50k\",\"$150-250k\",\"\\u003c$50k\",\"\\u003e$500k\",\"$150-250k\",\"$100-150k\",\"$50-100k\",\"\\u003e$500k\",\"$150-250k\",\"\\u003c$50k\",\"$150-250k\",\"$150-250k\",\"\\u003c$50k\",\"$100-150k\",\"$100-150k\",\"$100-150k\",\"$50-100k\",\"$250-500k\",\"$100-150k\",\"$150-250k\",\"$150-250k\",\"\\u003e$500k\",\"$250-500k\",\"\\u003e$500k\",\"$100-150k\",\"$100-150k\",\"\\u003c$50k\",\"$250-500k\",\"\\u003e$500k\",\"$250-500k\",\"$250-500k\"],\"xaxis\":\"x\",\"y\":[\"Education\",\"Hospitality\",\"Government\",\"Education\",\"Technology\",\"Technology\",\"Government\",\"Government\",\"Technology\",\"Technology\",\"Government\",\"Government\",\"Entertainment\",\"Marketing\",\"Technology\",\"Healthcare\",\"Retail\",\"Government\",\"Entertainment\",\"Education\",\"Marketing\",\"Hospitality\",\"Marketing\",\"Hospitality\",\"Hospitality\",\"Hospitality\",\"Finance\",\"Finance\",\"Hospitality\",\"Hospitality\",\"Entertainment\",\"Healthcare\",\"Finance\",\"Hospitality\",\"Technology\",\"Marketing\",\"Finance\",\"Marketing\",\"Healthcare\",\"Marketing\",\"Finance\",\"Retail\",\"Retail\",\"Hospitality\",\"Finance\",\"Technology\",\"Healthcare\",\"Government\",\"Marketing\",\"Healthcare\",\"Retail\",\"Education\",\"Retail\",\"Education\",\"Marketing\",\"Technology\",\"Technology\",\"Retail\",\"Marketing\",\"Government\",\"Government\",\"Finance\",\"Marketing\",\"Healthcare\",\"Retail\",\"Government\",\"Government\",\"Marketing\",\"Retail\",\"Technology\",\"Government\",\"Government\",\"Retail\",\"Marketing\",\"Finance\",\"Government\",\"Healthcare\",\"Technology\",\"Healthcare\",\"Healthcare\",\"Education\",\"Finance\",\"Healthcare\",\"Education\",\"Entertainment\",\"Hospitality\",\"Hospitality\",\"Hospitality\",\"Finance\",\"Education\",\"Hospitality\",\"Education\",\"Education\",\"Marketing\",\"Marketing\",\"Retail\",\"Entertainment\",\"Retail\",\"Marketing\",\"Government\",\"Technology\",\"Government\",\"Technology\",\"Healthcare\",\"Marketing\",\"Hospitality\",\"Healthcare\",\"Education\",\"Entertainment\",\"Hospitality\",\"Government\",\"Finance\",\"Government\",\"Marketing\",\"Healthcare\",\"Hospitality\",\"Education\",\"Education\",\"Technology\",\"Healthcare\",\"Education\",\"Government\",\"Healthcare\",\"Technology\",\"Retail\",\"Government\",\"Hospitality\",\"Technology\",\"Healthcare\",\"Education\",\"Government\",\"Entertainment\",\"Entertainment\",\"Marketing\",\"Retail\",\"Hospitality\",\"Entertainment\",\"Government\",\"Finance\",\"Education\",\"Healthcare\",\"Education\",\"Hospitality\",\"Marketing\",\"Marketing\",\"Government\",\"Healthcare\",\"Finance\",\"Technology\",\"Finance\",\"Education\",\"Hospitality\",\"Entertainment\",\"Technology\",\"Marketing\",\"Technology\",\"Hospitality\",\"Healthcare\",\"Entertainment\",\"Finance\",\"Retail\",\"Technology\",\"Government\",\"Technology\",\"Government\",\"Hospitality\",\"Healthcare\",\"Government\",\"Marketing\",\"Government\",\"Education\",\"Technology\",\"Marketing\",\"Education\",\"Hospitality\",\"Healthcare\",\"Hospitality\",\"Healthcare\",\"Healthcare\",\"Education\",\"Marketing\",\"Education\",\"Healthcare\",\"Government\",\"Finance\",\"Technology\",\"Education\",\"Education\",\"Healthcare\",\"Technology\",\"Finance\",\"Education\",\"Government\",\"Education\",\"Education\",\"Marketing\",\"Technology\",\"Technology\",\"Hospitality\",\"Entertainment\"],\"yaxis\":\"y\",\"type\":\"bar\"},{\"alignmentgroup\":\"True\",\"hovertemplate\":\"personality_trait=Openness\\u003cbr\\u003esalary=%{x}\\u003cbr\\u003esector=%{y}\\u003cextra\\u003e\\u003c\\u002fextra\\u003e\",\"legendgroup\":\"Openness\",\"marker\":{\"color\":\"#FFA15A\",\"pattern\":{\"shape\":\"\"}},\"name\":\"Openness\",\"offsetgroup\":\"Openness\",\"orientation\":\"v\",\"showlegend\":true,\"textposition\":\"auto\",\"x\":[\"\\u003e$500k\",\"$150-250k\",\"$150-250k\",\"\\u003e$500k\",\"$100-150k\",\"$250-500k\",\"$100-150k\",\"$50-100k\",\"$50-100k\",\"\\u003c$50k\",\"$250-500k\",\"$150-250k\",\"$250-500k\",\"$50-100k\",\"\\u003c$50k\",\"$50-100k\",\"$100-150k\",\"$250-500k\",\"$250-500k\",\"\\u003e$500k\",\"$150-250k\",\"$250-500k\",\"\\u003e$500k\",\"$50-100k\",\"\\u003e$500k\",\"$150-250k\",\"$50-100k\",\"$150-250k\",\"\\u003e$500k\",\"\\u003e$500k\",\"$100-150k\",\"$50-100k\",\"$250-500k\",\"\\u003c$50k\",\"\\u003e$500k\",\"$250-500k\",\"$150-250k\",\"$50-100k\",\"$50-100k\",\"$250-500k\",\"$50-100k\",\"\\u003c$50k\",\"\\u003c$50k\",\"$50-100k\",\"$100-150k\",\"$50-100k\",\"\\u003e$500k\",\"$100-150k\",\"\\u003c$50k\",\"$250-500k\",\"\\u003e$500k\",\"\\u003c$50k\",\"\\u003c$50k\",\"\\u003c$50k\",\"\\u003c$50k\",\"$150-250k\",\"\\u003e$500k\",\"$250-500k\",\"\\u003c$50k\",\"\\u003e$500k\",\"$50-100k\",\"$250-500k\",\"\\u003c$50k\",\"\\u003e$500k\",\"$250-500k\",\"\\u003c$50k\",\"$50-100k\",\"\\u003c$50k\",\"$250-500k\",\"$150-250k\",\"\\u003c$50k\",\"\\u003c$50k\",\"$250-500k\",\"$50-100k\",\"\\u003c$50k\",\"\\u003c$50k\",\"$150-250k\",\"\\u003c$50k\",\"$250-500k\",\"$50-100k\",\"$50-100k\",\"$150-250k\",\"\\u003c$50k\",\"$50-100k\",\"\\u003e$500k\",\"$50-100k\",\"\\u003e$500k\",\"\\u003c$50k\",\"$100-150k\",\"$50-100k\",\"$150-250k\",\"\\u003c$50k\",\"\\u003c$50k\",\"$150-250k\",\"$250-500k\",\"$50-100k\",\"$250-500k\",\"$150-250k\",\"$100-150k\",\"\\u003c$50k\",\"\\u003e$500k\",\"$250-500k\",\"$250-500k\",\"$250-500k\",\"\\u003e$500k\",\"\\u003c$50k\",\"\\u003e$500k\",\"$100-150k\",\"$250-500k\",\"\\u003c$50k\",\"$50-100k\",\"$250-500k\",\"$250-500k\",\"$150-250k\",\"$150-250k\",\"$150-250k\",\"\\u003c$50k\",\"\\u003c$50k\",\"$150-250k\",\"\\u003c$50k\",\"\\u003c$50k\",\"$50-100k\",\"$50-100k\",\"$50-100k\",\"\\u003c$50k\",\"\\u003c$50k\",\"$150-250k\",\"$150-250k\",\"\\u003e$500k\",\"\\u003e$500k\",\"\\u003e$500k\",\"$100-150k\",\"$50-100k\",\"$250-500k\",\"$50-100k\",\"$100-150k\",\"\\u003c$50k\",\"$150-250k\",\"$50-100k\",\"\\u003e$500k\",\"$50-100k\",\"\\u003c$50k\",\"\\u003e$500k\",\"\\u003c$50k\",\"\\u003e$500k\",\"$50-100k\",\"$150-250k\",\"$100-150k\",\"\\u003c$50k\",\"\\u003c$50k\",\"\\u003c$50k\",\"$250-500k\",\"$100-150k\",\"\\u003c$50k\",\"$150-250k\",\"$150-250k\",\"$100-150k\",\"\\u003e$500k\",\"\\u003e$500k\",\"$150-250k\",\"\\u003c$50k\",\"\\u003e$500k\",\"\\u003e$500k\",\"\\u003e$500k\",\"$50-100k\",\"$250-500k\",\"$50-100k\",\"$150-250k\",\"$150-250k\",\"\\u003c$50k\",\"$100-150k\",\"\\u003e$500k\",\"$250-500k\",\"$150-250k\",\"$250-500k\",\"$100-150k\",\"\\u003c$50k\",\"$250-500k\",\"\\u003e$500k\",\"$100-150k\",\"$150-250k\",\"\\u003c$50k\",\"$50-100k\",\"$150-250k\",\"$250-500k\",\"$250-500k\",\"$150-250k\",\"\\u003c$50k\",\"$50-100k\",\"$150-250k\",\"$100-150k\",\"$100-150k\",\"$50-100k\",\"$150-250k\"],\"xaxis\":\"x\",\"y\":[\"Hospitality\",\"Technology\",\"Government\",\"Education\",\"Retail\",\"Healthcare\",\"Retail\",\"Retail\",\"Marketing\",\"Education\",\"Marketing\",\"Healthcare\",\"Government\",\"Technology\",\"Hospitality\",\"Government\",\"Hospitality\",\"Healthcare\",\"Finance\",\"Finance\",\"Marketing\",\"Technology\",\"Retail\",\"Retail\",\"Government\",\"Government\",\"Entertainment\",\"Entertainment\",\"Retail\",\"Retail\",\"Government\",\"Finance\",\"Hospitality\",\"Marketing\",\"Marketing\",\"Finance\",\"Retail\",\"Hospitality\",\"Government\",\"Healthcare\",\"Retail\",\"Government\",\"Government\",\"Hospitality\",\"Marketing\",\"Retail\",\"Entertainment\",\"Government\",\"Hospitality\",\"Education\",\"Government\",\"Government\",\"Entertainment\",\"Marketing\",\"Government\",\"Marketing\",\"Finance\",\"Hospitality\",\"Healthcare\",\"Hospitality\",\"Technology\",\"Marketing\",\"Government\",\"Retail\",\"Marketing\",\"Finance\",\"Finance\",\"Government\",\"Retail\",\"Education\",\"Marketing\",\"Marketing\",\"Hospitality\",\"Government\",\"Healthcare\",\"Technology\",\"Entertainment\",\"Healthcare\",\"Hospitality\",\"Education\",\"Education\",\"Hospitality\",\"Technology\",\"Marketing\",\"Entertainment\",\"Healthcare\",\"Marketing\",\"Entertainment\",\"Hospitality\",\"Finance\",\"Marketing\",\"Retail\",\"Retail\",\"Retail\",\"Retail\",\"Healthcare\",\"Healthcare\",\"Healthcare\",\"Entertainment\",\"Technology\",\"Healthcare\",\"Entertainment\",\"Retail\",\"Education\",\"Government\",\"Government\",\"Entertainment\",\"Education\",\"Education\",\"Hospitality\",\"Government\",\"Entertainment\",\"Marketing\",\"Healthcare\",\"Healthcare\",\"Entertainment\",\"Healthcare\",\"Retail\",\"Entertainment\",\"Healthcare\",\"Healthcare\",\"Marketing\",\"Retail\",\"Healthcare\",\"Retail\",\"Government\",\"Hospitality\",\"Retail\",\"Entertainment\",\"Entertainment\",\"Government\",\"Government\",\"Education\",\"Government\",\"Entertainment\",\"Hospitality\",\"Healthcare\",\"Education\",\"Government\",\"Government\",\"Marketing\",\"Finance\",\"Finance\",\"Finance\",\"Retail\",\"Finance\",\"Entertainment\",\"Government\",\"Education\",\"Retail\",\"Education\",\"Hospitality\",\"Finance\",\"Retail\",\"Finance\",\"Marketing\",\"Education\",\"Healthcare\",\"Finance\",\"Entertainment\",\"Marketing\",\"Finance\",\"Hospitality\",\"Technology\",\"Finance\",\"Finance\",\"Entertainment\",\"Retail\",\"Technology\",\"Technology\",\"Hospitality\",\"Hospitality\",\"Education\",\"Hospitality\",\"Entertainment\",\"Government\",\"Marketing\",\"Healthcare\",\"Government\",\"Hospitality\",\"Retail\",\"Retail\",\"Retail\",\"Government\",\"Marketing\",\"Finance\",\"Hospitality\",\"Government\",\"Entertainment\",\"Government\",\"Retail\",\"Technology\",\"Retail\",\"Finance\"],\"yaxis\":\"y\",\"type\":\"bar\"}],                        {\"template\":{\"data\":{\"histogram2dcontour\":[{\"type\":\"histogram2dcontour\",\"colorbar\":{\"outlinewidth\":0,\"ticks\":\"\"},\"colorscale\":[[0.0,\"#0d0887\"],[0.1111111111111111,\"#46039f\"],[0.2222222222222222,\"#7201a8\"],[0.3333333333333333,\"#9c179e\"],[0.4444444444444444,\"#bd3786\"],[0.5555555555555556,\"#d8576b\"],[0.6666666666666666,\"#ed7953\"],[0.7777777777777778,\"#fb9f3a\"],[0.8888888888888888,\"#fdca26\"],[1.0,\"#f0f921\"]]}],\"choropleth\":[{\"type\":\"choropleth\",\"colorbar\":{\"outlinewidth\":0,\"ticks\":\"\"}}],\"histogram2d\":[{\"type\":\"histogram2d\",\"colorbar\":{\"outlinewidth\":0,\"ticks\":\"\"},\"colorscale\":[[0.0,\"#0d0887\"],[0.1111111111111111,\"#46039f\"],[0.2222222222222222,\"#7201a8\"],[0.3333333333333333,\"#9c179e\"],[0.4444444444444444,\"#bd3786\"],[0.5555555555555556,\"#d8576b\"],[0.6666666666666666,\"#ed7953\"],[0.7777777777777778,\"#fb9f3a\"],[0.8888888888888888,\"#fdca26\"],[1.0,\"#f0f921\"]]}],\"heatmap\":[{\"type\":\"heatmap\",\"colorbar\":{\"outlinewidth\":0,\"ticks\":\"\"},\"colorscale\":[[0.0,\"#0d0887\"],[0.1111111111111111,\"#46039f\"],[0.2222222222222222,\"#7201a8\"],[0.3333333333333333,\"#9c179e\"],[0.4444444444444444,\"#bd3786\"],[0.5555555555555556,\"#d8576b\"],[0.6666666666666666,\"#ed7953\"],[0.7777777777777778,\"#fb9f3a\"],[0.8888888888888888,\"#fdca26\"],[1.0,\"#f0f921\"]]}],\"heatmapgl\":[{\"type\":\"heatmapgl\",\"colorbar\":{\"outlinewidth\":0,\"ticks\":\"\"},\"colorscale\":[[0.0,\"#0d0887\"],[0.1111111111111111,\"#46039f\"],[0.2222222222222222,\"#7201a8\"],[0.3333333333333333,\"#9c179e\"],[0.4444444444444444,\"#bd3786\"],[0.5555555555555556,\"#d8576b\"],[0.6666666666666666,\"#ed7953\"],[0.7777777777777778,\"#fb9f3a\"],[0.8888888888888888,\"#fdca26\"],[1.0,\"#f0f921\"]]}],\"contourcarpet\":[{\"type\":\"contourcarpet\",\"colorbar\":{\"outlinewidth\":0,\"ticks\":\"\"}}],\"contour\":[{\"type\":\"contour\",\"colorbar\":{\"outlinewidth\":0,\"ticks\":\"\"},\"colorscale\":[[0.0,\"#0d0887\"],[0.1111111111111111,\"#46039f\"],[0.2222222222222222,\"#7201a8\"],[0.3333333333333333,\"#9c179e\"],[0.4444444444444444,\"#bd3786\"],[0.5555555555555556,\"#d8576b\"],[0.6666666666666666,\"#ed7953\"],[0.7777777777777778,\"#fb9f3a\"],[0.8888888888888888,\"#fdca26\"],[1.0,\"#f0f921\"]]}],\"surface\":[{\"type\":\"surface\",\"colorbar\":{\"outlinewidth\":0,\"ticks\":\"\"},\"colorscale\":[[0.0,\"#0d0887\"],[0.1111111111111111,\"#46039f\"],[0.2222222222222222,\"#7201a8\"],[0.3333333333333333,\"#9c179e\"],[0.4444444444444444,\"#bd3786\"],[0.5555555555555556,\"#d8576b\"],[0.6666666666666666,\"#ed7953\"],[0.7777777777777778,\"#fb9f3a\"],[0.8888888888888888,\"#fdca26\"],[1.0,\"#f0f921\"]]}],\"mesh3d\":[{\"type\":\"mesh3d\",\"colorbar\":{\"outlinewidth\":0,\"ticks\":\"\"}}],\"scatter\":[{\"fillpattern\":{\"fillmode\":\"overlay\",\"size\":10,\"solidity\":0.2},\"type\":\"scatter\"}],\"parcoords\":[{\"type\":\"parcoords\",\"line\":{\"colorbar\":{\"outlinewidth\":0,\"ticks\":\"\"}}}],\"scatterpolargl\":[{\"type\":\"scatterpolargl\",\"marker\":{\"colorbar\":{\"outlinewidth\":0,\"ticks\":\"\"}}}],\"bar\":[{\"error_x\":{\"color\":\"#2a3f5f\"},\"error_y\":{\"color\":\"#2a3f5f\"},\"marker\":{\"line\":{\"color\":\"#E5ECF6\",\"width\":0.5},\"pattern\":{\"fillmode\":\"overlay\",\"size\":10,\"solidity\":0.2}},\"type\":\"bar\"}],\"scattergeo\":[{\"type\":\"scattergeo\",\"marker\":{\"colorbar\":{\"outlinewidth\":0,\"ticks\":\"\"}}}],\"scatterpolar\":[{\"type\":\"scatterpolar\",\"marker\":{\"colorbar\":{\"outlinewidth\":0,\"ticks\":\"\"}}}],\"histogram\":[{\"marker\":{\"pattern\":{\"fillmode\":\"overlay\",\"size\":10,\"solidity\":0.2}},\"type\":\"histogram\"}],\"scattergl\":[{\"type\":\"scattergl\",\"marker\":{\"colorbar\":{\"outlinewidth\":0,\"ticks\":\"\"}}}],\"scatter3d\":[{\"type\":\"scatter3d\",\"line\":{\"colorbar\":{\"outlinewidth\":0,\"ticks\":\"\"}},\"marker\":{\"colorbar\":{\"outlinewidth\":0,\"ticks\":\"\"}}}],\"scattermapbox\":[{\"type\":\"scattermapbox\",\"marker\":{\"colorbar\":{\"outlinewidth\":0,\"ticks\":\"\"}}}],\"scatterternary\":[{\"type\":\"scatterternary\",\"marker\":{\"colorbar\":{\"outlinewidth\":0,\"ticks\":\"\"}}}],\"scattercarpet\":[{\"type\":\"scattercarpet\",\"marker\":{\"colorbar\":{\"outlinewidth\":0,\"ticks\":\"\"}}}],\"carpet\":[{\"aaxis\":{\"endlinecolor\":\"#2a3f5f\",\"gridcolor\":\"white\",\"linecolor\":\"white\",\"minorgridcolor\":\"white\",\"startlinecolor\":\"#2a3f5f\"},\"baxis\":{\"endlinecolor\":\"#2a3f5f\",\"gridcolor\":\"white\",\"linecolor\":\"white\",\"minorgridcolor\":\"white\",\"startlinecolor\":\"#2a3f5f\"},\"type\":\"carpet\"}],\"table\":[{\"cells\":{\"fill\":{\"color\":\"#EBF0F8\"},\"line\":{\"color\":\"white\"}},\"header\":{\"fill\":{\"color\":\"#C8D4E3\"},\"line\":{\"color\":\"white\"}},\"type\":\"table\"}],\"barpolar\":[{\"marker\":{\"line\":{\"color\":\"#E5ECF6\",\"width\":0.5},\"pattern\":{\"fillmode\":\"overlay\",\"size\":10,\"solidity\":0.2}},\"type\":\"barpolar\"}],\"pie\":[{\"automargin\":true,\"type\":\"pie\"}]},\"layout\":{\"autotypenumbers\":\"strict\",\"colorway\":[\"#636efa\",\"#EF553B\",\"#00cc96\",\"#ab63fa\",\"#FFA15A\",\"#19d3f3\",\"#FF6692\",\"#B6E880\",\"#FF97FF\",\"#FECB52\"],\"font\":{\"color\":\"#2a3f5f\"},\"hovermode\":\"closest\",\"hoverlabel\":{\"align\":\"left\"},\"paper_bgcolor\":\"white\",\"plot_bgcolor\":\"#E5ECF6\",\"polar\":{\"bgcolor\":\"#E5ECF6\",\"angularaxis\":{\"gridcolor\":\"white\",\"linecolor\":\"white\",\"ticks\":\"\"},\"radialaxis\":{\"gridcolor\":\"white\",\"linecolor\":\"white\",\"ticks\":\"\"}},\"ternary\":{\"bgcolor\":\"#E5ECF6\",\"aaxis\":{\"gridcolor\":\"white\",\"linecolor\":\"white\",\"ticks\":\"\"},\"baxis\":{\"gridcolor\":\"white\",\"linecolor\":\"white\",\"ticks\":\"\"},\"caxis\":{\"gridcolor\":\"white\",\"linecolor\":\"white\",\"ticks\":\"\"}},\"coloraxis\":{\"colorbar\":{\"outlinewidth\":0,\"ticks\":\"\"}},\"colorscale\":{\"sequential\":[[0.0,\"#0d0887\"],[0.1111111111111111,\"#46039f\"],[0.2222222222222222,\"#7201a8\"],[0.3333333333333333,\"#9c179e\"],[0.4444444444444444,\"#bd3786\"],[0.5555555555555556,\"#d8576b\"],[0.6666666666666666,\"#ed7953\"],[0.7777777777777778,\"#fb9f3a\"],[0.8888888888888888,\"#fdca26\"],[1.0,\"#f0f921\"]],\"sequentialminus\":[[0.0,\"#0d0887\"],[0.1111111111111111,\"#46039f\"],[0.2222222222222222,\"#7201a8\"],[0.3333333333333333,\"#9c179e\"],[0.4444444444444444,\"#bd3786\"],[0.5555555555555556,\"#d8576b\"],[0.6666666666666666,\"#ed7953\"],[0.7777777777777778,\"#fb9f3a\"],[0.8888888888888888,\"#fdca26\"],[1.0,\"#f0f921\"]],\"diverging\":[[0,\"#8e0152\"],[0.1,\"#c51b7d\"],[0.2,\"#de77ae\"],[0.3,\"#f1b6da\"],[0.4,\"#fde0ef\"],[0.5,\"#f7f7f7\"],[0.6,\"#e6f5d0\"],[0.7,\"#b8e186\"],[0.8,\"#7fbc41\"],[0.9,\"#4d9221\"],[1,\"#276419\"]]},\"xaxis\":{\"gridcolor\":\"white\",\"linecolor\":\"white\",\"ticks\":\"\",\"title\":{\"standoff\":15},\"zerolinecolor\":\"white\",\"automargin\":true,\"zerolinewidth\":2},\"yaxis\":{\"gridcolor\":\"white\",\"linecolor\":\"white\",\"ticks\":\"\",\"title\":{\"standoff\":15},\"zerolinecolor\":\"white\",\"automargin\":true,\"zerolinewidth\":2},\"scene\":{\"xaxis\":{\"backgroundcolor\":\"#E5ECF6\",\"gridcolor\":\"white\",\"linecolor\":\"white\",\"showbackground\":true,\"ticks\":\"\",\"zerolinecolor\":\"white\",\"gridwidth\":2},\"yaxis\":{\"backgroundcolor\":\"#E5ECF6\",\"gridcolor\":\"white\",\"linecolor\":\"white\",\"showbackground\":true,\"ticks\":\"\",\"zerolinecolor\":\"white\",\"gridwidth\":2},\"zaxis\":{\"backgroundcolor\":\"#E5ECF6\",\"gridcolor\":\"white\",\"linecolor\":\"white\",\"showbackground\":true,\"ticks\":\"\",\"zerolinecolor\":\"white\",\"gridwidth\":2}},\"shapedefaults\":{\"line\":{\"color\":\"#2a3f5f\"}},\"annotationdefaults\":{\"arrowcolor\":\"#2a3f5f\",\"arrowhead\":0,\"arrowwidth\":1},\"geo\":{\"bgcolor\":\"white\",\"landcolor\":\"#E5ECF6\",\"subunitcolor\":\"white\",\"showland\":true,\"showlakes\":true,\"lakecolor\":\"white\"},\"title\":{\"x\":0.05},\"mapbox\":{\"style\":\"light\"}}},\"xaxis\":{\"anchor\":\"y\",\"domain\":[0.0,1.0],\"title\":{\"text\":\"salary\"}},\"yaxis\":{\"anchor\":\"x\",\"domain\":[0.0,1.0],\"title\":{\"text\":\"sector\"}},\"legend\":{\"title\":{\"text\":\"personality_trait\"},\"tracegroupgap\":0},\"margin\":{\"t\":60},\"barmode\":\"relative\"},                        {\"responsive\": true}                    ).then(function(){\n",
       "                            \n",
       "var gd = document.getElementById('12610769-5a7f-4215-90b8-3781adb7cb9c');\n",
       "var x = new MutationObserver(function (mutations, observer) {{\n",
       "        var display = window.getComputedStyle(gd).display;\n",
       "        if (!display || display === 'none') {{\n",
       "            console.log([gd, 'removed!']);\n",
       "            Plotly.purge(gd);\n",
       "            observer.disconnect();\n",
       "        }}\n",
       "}});\n",
       "\n",
       "// Listen for the removal of the full notebook cells\n",
       "var notebookContainer = gd.closest('#notebook-container');\n",
       "if (notebookContainer) {{\n",
       "    x.observe(notebookContainer, {childList: true});\n",
       "}}\n",
       "\n",
       "// Listen for the clearing of the current output cell\n",
       "var outputEl = gd.closest('.output');\n",
       "if (outputEl) {{\n",
       "    x.observe(outputEl, {childList: true});\n",
       "}}\n",
       "\n",
       "                        })                };                });            </script>        </div>"
      ]
     },
     "metadata": {},
     "output_type": "display_data"
    }
   ],
   "source": [
    "fig = px.bar(df, x=\"salary\", y=\"sector\", color='personality_trait')\n",
    "fig.show()"
   ]
  },
  {
   "cell_type": "code",
   "execution_count": null,
   "id": "2a60b8d1-2887-4290-ba73-0a401af9fedc",
   "metadata": {},
   "outputs": [],
   "source": []
  }
 ],
 "metadata": {
  "kernelspec": {
   "display_name": "Python 3 (ipykernel)",
   "language": "python",
   "name": "python3"
  },
  "language_info": {
   "codemirror_mode": {
    "name": "ipython",
    "version": 3
   },
   "file_extension": ".py",
   "mimetype": "text/x-python",
   "name": "python",
   "nbconvert_exporter": "python",
   "pygments_lexer": "ipython3",
   "version": "3.11.5"
  }
 },
 "nbformat": 4,
 "nbformat_minor": 5
}
